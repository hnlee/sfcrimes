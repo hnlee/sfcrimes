{
 "cells": [
  {
   "cell_type": "code",
   "execution_count": 1,
   "metadata": {
    "collapsed": true
   },
   "outputs": [],
   "source": [
    "%matplotlib inline"
   ]
  },
  {
   "cell_type": "code",
   "execution_count": 2,
   "metadata": {
    "collapsed": false
   },
   "outputs": [],
   "source": [
    "import pandas as pd\n",
    "import numpy as np\n",
    "import sklearn as sk\n",
    "import matplotlib.pyplot as plt\n",
    "import seaborn as sns"
   ]
  },
  {
   "cell_type": "code",
   "execution_count": 3,
   "metadata": {
    "collapsed": false
   },
   "outputs": [
    {
     "data": {
      "text/html": [
       "<div>\n",
       "<table border=\"1\" class=\"dataframe\">\n",
       "  <thead>\n",
       "    <tr style=\"text-align: right;\">\n",
       "      <th></th>\n",
       "      <th>Dates</th>\n",
       "      <th>Category</th>\n",
       "      <th>Descript</th>\n",
       "      <th>DayOfWeek</th>\n",
       "      <th>PdDistrict</th>\n",
       "      <th>Resolution</th>\n",
       "      <th>Address</th>\n",
       "      <th>X</th>\n",
       "      <th>Y</th>\n",
       "    </tr>\n",
       "  </thead>\n",
       "  <tbody>\n",
       "    <tr>\n",
       "      <th>0</th>\n",
       "      <td>2015-05-13 23:53:00</td>\n",
       "      <td>WARRANTS</td>\n",
       "      <td>WARRANT ARREST</td>\n",
       "      <td>Wednesday</td>\n",
       "      <td>NORTHERN</td>\n",
       "      <td>ARREST, BOOKED</td>\n",
       "      <td>OAK ST / LAGUNA ST</td>\n",
       "      <td>-122.425892</td>\n",
       "      <td>37.774599</td>\n",
       "    </tr>\n",
       "    <tr>\n",
       "      <th>1</th>\n",
       "      <td>2015-05-13 23:53:00</td>\n",
       "      <td>OTHER OFFENSES</td>\n",
       "      <td>TRAFFIC VIOLATION ARREST</td>\n",
       "      <td>Wednesday</td>\n",
       "      <td>NORTHERN</td>\n",
       "      <td>ARREST, BOOKED</td>\n",
       "      <td>OAK ST / LAGUNA ST</td>\n",
       "      <td>-122.425892</td>\n",
       "      <td>37.774599</td>\n",
       "    </tr>\n",
       "    <tr>\n",
       "      <th>2</th>\n",
       "      <td>2015-05-13 23:33:00</td>\n",
       "      <td>OTHER OFFENSES</td>\n",
       "      <td>TRAFFIC VIOLATION ARREST</td>\n",
       "      <td>Wednesday</td>\n",
       "      <td>NORTHERN</td>\n",
       "      <td>ARREST, BOOKED</td>\n",
       "      <td>VANNESS AV / GREENWICH ST</td>\n",
       "      <td>-122.424363</td>\n",
       "      <td>37.800414</td>\n",
       "    </tr>\n",
       "    <tr>\n",
       "      <th>3</th>\n",
       "      <td>2015-05-13 23:30:00</td>\n",
       "      <td>LARCENY/THEFT</td>\n",
       "      <td>GRAND THEFT FROM LOCKED AUTO</td>\n",
       "      <td>Wednesday</td>\n",
       "      <td>NORTHERN</td>\n",
       "      <td>NONE</td>\n",
       "      <td>1500 Block of LOMBARD ST</td>\n",
       "      <td>-122.426995</td>\n",
       "      <td>37.800873</td>\n",
       "    </tr>\n",
       "    <tr>\n",
       "      <th>4</th>\n",
       "      <td>2015-05-13 23:30:00</td>\n",
       "      <td>LARCENY/THEFT</td>\n",
       "      <td>GRAND THEFT FROM LOCKED AUTO</td>\n",
       "      <td>Wednesday</td>\n",
       "      <td>PARK</td>\n",
       "      <td>NONE</td>\n",
       "      <td>100 Block of BRODERICK ST</td>\n",
       "      <td>-122.438738</td>\n",
       "      <td>37.771541</td>\n",
       "    </tr>\n",
       "  </tbody>\n",
       "</table>\n",
       "</div>"
      ],
      "text/plain": [
       "                 Dates        Category                      Descript  \\\n",
       "0  2015-05-13 23:53:00        WARRANTS                WARRANT ARREST   \n",
       "1  2015-05-13 23:53:00  OTHER OFFENSES      TRAFFIC VIOLATION ARREST   \n",
       "2  2015-05-13 23:33:00  OTHER OFFENSES      TRAFFIC VIOLATION ARREST   \n",
       "3  2015-05-13 23:30:00   LARCENY/THEFT  GRAND THEFT FROM LOCKED AUTO   \n",
       "4  2015-05-13 23:30:00   LARCENY/THEFT  GRAND THEFT FROM LOCKED AUTO   \n",
       "\n",
       "   DayOfWeek PdDistrict      Resolution                    Address  \\\n",
       "0  Wednesday   NORTHERN  ARREST, BOOKED         OAK ST / LAGUNA ST   \n",
       "1  Wednesday   NORTHERN  ARREST, BOOKED         OAK ST / LAGUNA ST   \n",
       "2  Wednesday   NORTHERN  ARREST, BOOKED  VANNESS AV / GREENWICH ST   \n",
       "3  Wednesday   NORTHERN            NONE   1500 Block of LOMBARD ST   \n",
       "4  Wednesday       PARK            NONE  100 Block of BRODERICK ST   \n",
       "\n",
       "            X          Y  \n",
       "0 -122.425892  37.774599  \n",
       "1 -122.425892  37.774599  \n",
       "2 -122.424363  37.800414  \n",
       "3 -122.426995  37.800873  \n",
       "4 -122.438738  37.771541  "
      ]
     },
     "execution_count": 3,
     "metadata": {},
     "output_type": "execute_result"
    }
   ],
   "source": [
    "# Read in training set data\n",
    "sfcrimes = pd.read_csv(\"train.csv\")\n",
    "sfcrimes.head(5)"
   ]
  },
  {
   "cell_type": "code",
   "execution_count": 4,
   "metadata": {
    "collapsed": false
   },
   "outputs": [],
   "source": [
    "# Turn crime category into categorical variable\n",
    "\n",
    "sfcrimes[\"Category\"] = sfcrimes[\"Category\"].astype(\"category\")\n",
    "\n",
    "from sklearn.preprocessing import LabelEncoder\n",
    "cat_codes = LabelEncoder()\n",
    "cat_codes.fit(sfcrimes[\"Category\"].cat.categories)\n",
    "\n",
    "sfcrimes[\"CatCodes\"] = cat_codes.transform(sfcrimes[\"Category\"])"
   ]
  },
  {
   "cell_type": "code",
   "execution_count": 5,
   "metadata": {
    "collapsed": false
   },
   "outputs": [],
   "source": [
    "# Some exploratory plots\n",
    "\n",
    "## Split into test and training\n",
    "from sklearn.cross_validation import train_test_split\n",
    "train, test = train_test_split(sfcrimes, test_size=0.3, random_state=333)"
   ]
  },
  {
   "cell_type": "code",
   "execution_count": 92,
   "metadata": {
    "collapsed": false
   },
   "outputs": [
    {
     "data": {
      "text/plain": [
       "LARCENY/THEFT                  174900\n",
       "OTHER OFFENSES                 126182\n",
       "NON-CRIMINAL                    92304\n",
       "ASSAULT                         76876\n",
       "DRUG/NARCOTIC                   53971\n",
       "VEHICLE THEFT                   53781\n",
       "VANDALISM                       44725\n",
       "WARRANTS                        42214\n",
       "BURGLARY                        36755\n",
       "SUSPICIOUS OCC                  31414\n",
       "MISSING PERSON                  25989\n",
       "ROBBERY                         23000\n",
       "FRAUD                           16679\n",
       "FORGERY/COUNTERFEITING          10609\n",
       "SECONDARY CODES                  9985\n",
       "WEAPON LAWS                      8555\n",
       "PROSTITUTION                     7484\n",
       "TRESPASS                         7326\n",
       "STOLEN PROPERTY                  4540\n",
       "SEX OFFENSES FORCIBLE            4388\n",
       "DISORDERLY CONDUCT               4320\n",
       "DRUNKENNESS                      4280\n",
       "RECOVERED VEHICLE                3138\n",
       "KIDNAPPING                       2341\n",
       "DRIVING UNDER THE INFLUENCE      2268\n",
       "RUNAWAY                          1946\n",
       "LIQUOR LAWS                      1903\n",
       "ARSON                            1513\n",
       "LOITERING                        1225\n",
       "EMBEZZLEMENT                     1166\n",
       "SUICIDE                           508\n",
       "FAMILY OFFENSES                   491\n",
       "BAD CHECKS                        406\n",
       "BRIBERY                           289\n",
       "EXTORTION                         256\n",
       "SEX OFFENSES NON FORCIBLE         148\n",
       "GAMBLING                          146\n",
       "PORNOGRAPHY/OBSCENE MAT            22\n",
       "TREA                                6\n",
       "dtype: int64"
      ]
     },
     "execution_count": 92,
     "metadata": {},
     "output_type": "execute_result"
    }
   ],
   "source": [
    "sfcrimes[\"Category\"].value_counts()"
   ]
  },
  {
   "cell_type": "code",
   "execution_count": 97,
   "metadata": {
    "collapsed": false
   },
   "outputs": [
    {
     "data": {
      "text/plain": [
       "39"
      ]
     },
     "execution_count": 97,
     "metadata": {},
     "output_type": "execute_result"
    }
   ],
   "source": [
    "len(sfcrimes[\"Category\"].value_counts())"
   ]
  },
  {
   "cell_type": "code",
   "execution_count": 6,
   "metadata": {
    "collapsed": false,
    "scrolled": true
   },
   "outputs": [
    {
     "data": {
      "text/plain": [
       "<matplotlib.axes._subplots.AxesSubplot at 0x10c1214e0>"
      ]
     },
     "execution_count": 6,
     "metadata": {},
     "output_type": "execute_result"
    },
    {
     "data": {
      "image/png": "[encoded data removed]",
      "text/plain": [
       "<matplotlib.figure.Figure at 0x10886be80>"
      ]
     },
     "metadata": {},
     "output_type": "display_data"
    }
   ],
   "source": [
    "## Distribution of crime categories\n",
    "\n",
    "sns.countplot(y=\"Category\", data=train)"
   ]
  },
  {
   "cell_type": "code",
   "execution_count": 7,
   "metadata": {
    "collapsed": false
   },
   "outputs": [
    {
     "data": {
      "text/plain": [
       "<matplotlib.axes._subplots.AxesSubplot at 0x108d0a978>"
      ]
     },
     "execution_count": 7,
     "metadata": {},
     "output_type": "execute_result"
    },
    {
     "data": {
      "image/png": "[encoded data removed]",
      "text/plain": [
       "<matplotlib.figure.Figure at 0x108ce9c50>"
      ]
     },
     "metadata": {},
     "output_type": "display_data"
    }
   ],
   "source": [
    "## Distribution of police districts\n",
    "\n",
    "sns.countplot(y=\"PdDistrict\", data=train)"
   ]
  },
  {
   "cell_type": "code",
   "execution_count": 8,
   "metadata": {
    "collapsed": false
   },
   "outputs": [
    {
     "data": {
      "text/plain": [
       "<matplotlib.axes._subplots.AxesSubplot at 0x108dd7438>"
      ]
     },
     "execution_count": 8,
     "metadata": {},
     "output_type": "execute_result"
    },
    {
     "data": {
      "image/png": "[encoded data removed]",
      "text/plain": [
       "<matplotlib.figure.Figure at 0x108e38240>"
      ]
     },
     "metadata": {},
     "output_type": "display_data"
    }
   ],
   "source": [
    "## Distribution of day of week\n",
    "\n",
    "sns.countplot(x=\"DayOfWeek\",\n",
    "              data=train,\n",
    "              order=[x + \"day\" for x in [\"Mon\", \"Tues\", \"Wednes\", \"Thurs\",\n",
    "                                       \"Fri\", \"Satur\", \"Sun\"]])"
   ]
  },
  {
   "cell_type": "code",
   "execution_count": 9,
   "metadata": {
    "collapsed": false
   },
   "outputs": [
    {
     "data": {
      "text/plain": [
       "<seaborn.axisgrid.JointGrid at 0x108e454a8>"
      ]
     },
     "execution_count": 9,
     "metadata": {},
     "output_type": "execute_result"
    },
    {
     "name": "stderr",
     "output_type": "stream",
     "text": [
      "/usr/local/lib/python3.5/site-packages/matplotlib/collections.py:590: FutureWarning: elementwise comparison failed; returning scalar instead, but in the future will perform elementwise comparison\n",
      "  if self._edgecolors == str('face'):\n"
     ]
    },
    {
     "data": {
      "image/png": "[encoded data removed]",
      "text/plain": [
       "<matplotlib.figure.Figure at 0x108e451d0>"
      ]
     },
     "metadata": {},
     "output_type": "display_data"
    }
   ],
   "source": [
    "## Distribution of locations\n",
    "\n",
    "sns.jointplot(x = \"X\",\n",
    "              y = \"Y\",\n",
    "              data = sfcrimes)\n",
    "\n",
    "## What to do about extreme outliers in both longitude and latitude?"
   ]
  },
  {
   "cell_type": "code",
   "execution_count": 10,
   "metadata": {
    "collapsed": false
   },
   "outputs": [
    {
     "data": {
      "text/plain": [
       "(263415, 39)"
      ]
     },
     "execution_count": 10,
     "metadata": {},
     "output_type": "execute_result"
    }
   ],
   "source": [
    "# Model 1: normalized empirical probabilities\n",
    "\n",
    "## Predict on testing data based on mean probability for each category \n",
    "## in training data\n",
    "model1 = train[\"CatCodes\"].value_counts()/len(train.index)\n",
    "model1_pred = np.tile(model1, (len(test.index), 1))\n",
    "model1_pred.shape"
   ]
  },
  {
   "cell_type": "code",
   "execution_count": 11,
   "metadata": {
    "collapsed": false
   },
   "outputs": [
    {
     "data": {
      "text/plain": [
       "5.4603475160606845"
      ]
     },
     "execution_count": 11,
     "metadata": {},
     "output_type": "execute_result"
    }
   ],
   "source": [
    "## Evaluate Model 1's performance using log-loss metric from Kaggle\n",
    "\n",
    "from sklearn.metrics import log_loss\n",
    "log_loss(test[\"CatCodes\"], model1_pred)"
   ]
  },
  {
   "cell_type": "code",
   "execution_count": 12,
   "metadata": {
    "collapsed": false,
    "scrolled": true
   },
   "outputs": [
    {
     "data": {
      "text/html": [
       "<div>\n",
       "<table border=\"1\" class=\"dataframe\">\n",
       "  <thead>\n",
       "    <tr style=\"text-align: right;\">\n",
       "      <th></th>\n",
       "      <th>Pd_BAYVIEW</th>\n",
       "      <th>Pd_CENTRAL</th>\n",
       "      <th>Pd_INGLESIDE</th>\n",
       "      <th>Pd_MISSION</th>\n",
       "      <th>Pd_NORTHERN</th>\n",
       "      <th>Pd_PARK</th>\n",
       "      <th>Pd_RICHMOND</th>\n",
       "      <th>Pd_SOUTHERN</th>\n",
       "      <th>Pd_TARAVAL</th>\n",
       "      <th>Pd_TENDERLOIN</th>\n",
       "    </tr>\n",
       "  </thead>\n",
       "  <tbody>\n",
       "    <tr>\n",
       "      <th>710747</th>\n",
       "      <td>1</td>\n",
       "      <td>0</td>\n",
       "      <td>0</td>\n",
       "      <td>0</td>\n",
       "      <td>0</td>\n",
       "      <td>0</td>\n",
       "      <td>0</td>\n",
       "      <td>0</td>\n",
       "      <td>0</td>\n",
       "      <td>0</td>\n",
       "    </tr>\n",
       "    <tr>\n",
       "      <th>67284</th>\n",
       "      <td>0</td>\n",
       "      <td>0</td>\n",
       "      <td>0</td>\n",
       "      <td>0</td>\n",
       "      <td>0</td>\n",
       "      <td>0</td>\n",
       "      <td>0</td>\n",
       "      <td>1</td>\n",
       "      <td>0</td>\n",
       "      <td>0</td>\n",
       "    </tr>\n",
       "    <tr>\n",
       "      <th>269629</th>\n",
       "      <td>0</td>\n",
       "      <td>0</td>\n",
       "      <td>1</td>\n",
       "      <td>0</td>\n",
       "      <td>0</td>\n",
       "      <td>0</td>\n",
       "      <td>0</td>\n",
       "      <td>0</td>\n",
       "      <td>0</td>\n",
       "      <td>0</td>\n",
       "    </tr>\n",
       "    <tr>\n",
       "      <th>716054</th>\n",
       "      <td>0</td>\n",
       "      <td>0</td>\n",
       "      <td>0</td>\n",
       "      <td>0</td>\n",
       "      <td>1</td>\n",
       "      <td>0</td>\n",
       "      <td>0</td>\n",
       "      <td>0</td>\n",
       "      <td>0</td>\n",
       "      <td>0</td>\n",
       "    </tr>\n",
       "    <tr>\n",
       "      <th>216556</th>\n",
       "      <td>0</td>\n",
       "      <td>0</td>\n",
       "      <td>0</td>\n",
       "      <td>0</td>\n",
       "      <td>0</td>\n",
       "      <td>0</td>\n",
       "      <td>0</td>\n",
       "      <td>0</td>\n",
       "      <td>1</td>\n",
       "      <td>0</td>\n",
       "    </tr>\n",
       "  </tbody>\n",
       "</table>\n",
       "</div>"
      ],
      "text/plain": [
       "        Pd_BAYVIEW  Pd_CENTRAL  Pd_INGLESIDE  Pd_MISSION  Pd_NORTHERN  \\\n",
       "710747           1           0             0           0            0   \n",
       "67284            0           0             0           0            0   \n",
       "269629           0           0             1           0            0   \n",
       "716054           0           0             0           0            1   \n",
       "216556           0           0             0           0            0   \n",
       "\n",
       "        Pd_PARK  Pd_RICHMOND  Pd_SOUTHERN  Pd_TARAVAL  Pd_TENDERLOIN  \n",
       "710747        0            0            0           0              0  \n",
       "67284         0            0            1           0              0  \n",
       "269629        0            0            0           0              0  \n",
       "716054        0            0            0           0              0  \n",
       "216556        0            0            0           1              0  "
      ]
     },
     "execution_count": 12,
     "metadata": {},
     "output_type": "execute_result"
    }
   ],
   "source": [
    "# Model 2: using only police district\n",
    "\n",
    "## Create dummy variables for police district categorical variable\n",
    "model2_features = pd.get_dummies(train[\"PdDistrict\"], \n",
    "                                 prefix=\"Pd\")\n",
    "model2_features.head(5)"
   ]
  },
  {
   "cell_type": "code",
   "execution_count": 13,
   "metadata": {
    "collapsed": false
   },
   "outputs": [
    {
     "data": {
      "text/plain": [
       "(263415, 39)"
      ]
     },
     "execution_count": 13,
     "metadata": {},
     "output_type": "execute_result"
    }
   ],
   "source": [
    "## Predict on testing data using multinomial logistic regression \n",
    "## based on police district dummies\n",
    "\n",
    "from sklearn.linear_model import LogisticRegression\n",
    "model2 = LogisticRegression().fit(model2_features, \n",
    "                                  train[\"CatCodes\"])\n",
    "test_features = pd.get_dummies(test[\"PdDistrict\"], prefix=\"Pd\")\n",
    "model2_pred = model2.predict_proba(test_features)\n",
    "model2_pred.shape"
   ]
  },
  {
   "cell_type": "code",
   "execution_count": 14,
   "metadata": {
    "collapsed": false
   },
   "outputs": [
    {
     "data": {
      "text/plain": [
       "2.6171369508460223"
      ]
     },
     "execution_count": 14,
     "metadata": {},
     "output_type": "execute_result"
    }
   ],
   "source": [
    "## Evaluate Model 2's performance using log-loss metric from Kaggle\n",
    "\n",
    "log_loss(test[\"CatCodes\"], model2_pred)"
   ]
  },
  {
   "cell_type": "code",
   "execution_count": 15,
   "metadata": {
    "collapsed": false
   },
   "outputs": [],
   "source": [
    "## Generate submission using Kaggle's test data\n",
    "\n",
    "kaggle_test = pd.read_csv(\"test.csv\")\n",
    "kaggle_features = pd.get_dummies(kaggle_test[\"PdDistrict\"], prefix=\"Pd\")\n",
    "kaggle_pred = model2.predict_proba(kaggle_features)\n",
    "colnames = cat_codes.inverse_transform(model2.classes_)\n",
    "submission = pd.DataFrame(kaggle_pred, \n",
    "                          columns=colnames)\n",
    "submission.to_csv(path_or_buf=\"/Users/hanalee/sfcrimes/model2.csv\",\n",
    "                  index_label=\"Id\")"
   ]
  },
  {
   "cell_type": "code",
   "execution_count": 16,
   "metadata": {
    "collapsed": false
   },
   "outputs": [
    {
     "data": {
      "text/html": [
       "<div>\n",
       "<table border=\"1\" class=\"dataframe\">\n",
       "  <thead>\n",
       "    <tr style=\"text-align: right;\">\n",
       "      <th></th>\n",
       "      <th>Pd_BAYVIEW</th>\n",
       "      <th>Pd_CENTRAL</th>\n",
       "      <th>Pd_INGLESIDE</th>\n",
       "      <th>Pd_MISSION</th>\n",
       "      <th>Pd_NORTHERN</th>\n",
       "      <th>Pd_PARK</th>\n",
       "      <th>Pd_RICHMOND</th>\n",
       "      <th>Pd_SOUTHERN</th>\n",
       "      <th>Pd_TARAVAL</th>\n",
       "      <th>Pd_TENDERLOIN</th>\n",
       "      <th>Friday</th>\n",
       "      <th>Monday</th>\n",
       "      <th>Saturday</th>\n",
       "      <th>Sunday</th>\n",
       "      <th>Thursday</th>\n",
       "      <th>Tuesday</th>\n",
       "      <th>Wednesday</th>\n",
       "    </tr>\n",
       "  </thead>\n",
       "  <tbody>\n",
       "    <tr>\n",
       "      <th>710747</th>\n",
       "      <td>1</td>\n",
       "      <td>0</td>\n",
       "      <td>0</td>\n",
       "      <td>0</td>\n",
       "      <td>0</td>\n",
       "      <td>0</td>\n",
       "      <td>0</td>\n",
       "      <td>0</td>\n",
       "      <td>0</td>\n",
       "      <td>0</td>\n",
       "      <td>0</td>\n",
       "      <td>0</td>\n",
       "      <td>0</td>\n",
       "      <td>0</td>\n",
       "      <td>0</td>\n",
       "      <td>0</td>\n",
       "      <td>1</td>\n",
       "    </tr>\n",
       "    <tr>\n",
       "      <th>67284</th>\n",
       "      <td>0</td>\n",
       "      <td>0</td>\n",
       "      <td>0</td>\n",
       "      <td>0</td>\n",
       "      <td>0</td>\n",
       "      <td>0</td>\n",
       "      <td>0</td>\n",
       "      <td>1</td>\n",
       "      <td>0</td>\n",
       "      <td>0</td>\n",
       "      <td>0</td>\n",
       "      <td>0</td>\n",
       "      <td>0</td>\n",
       "      <td>0</td>\n",
       "      <td>0</td>\n",
       "      <td>0</td>\n",
       "      <td>1</td>\n",
       "    </tr>\n",
       "    <tr>\n",
       "      <th>269629</th>\n",
       "      <td>0</td>\n",
       "      <td>0</td>\n",
       "      <td>1</td>\n",
       "      <td>0</td>\n",
       "      <td>0</td>\n",
       "      <td>0</td>\n",
       "      <td>0</td>\n",
       "      <td>0</td>\n",
       "      <td>0</td>\n",
       "      <td>0</td>\n",
       "      <td>0</td>\n",
       "      <td>1</td>\n",
       "      <td>0</td>\n",
       "      <td>0</td>\n",
       "      <td>0</td>\n",
       "      <td>0</td>\n",
       "      <td>0</td>\n",
       "    </tr>\n",
       "    <tr>\n",
       "      <th>716054</th>\n",
       "      <td>0</td>\n",
       "      <td>0</td>\n",
       "      <td>0</td>\n",
       "      <td>0</td>\n",
       "      <td>1</td>\n",
       "      <td>0</td>\n",
       "      <td>0</td>\n",
       "      <td>0</td>\n",
       "      <td>0</td>\n",
       "      <td>0</td>\n",
       "      <td>0</td>\n",
       "      <td>0</td>\n",
       "      <td>0</td>\n",
       "      <td>0</td>\n",
       "      <td>0</td>\n",
       "      <td>0</td>\n",
       "      <td>1</td>\n",
       "    </tr>\n",
       "    <tr>\n",
       "      <th>216556</th>\n",
       "      <td>0</td>\n",
       "      <td>0</td>\n",
       "      <td>0</td>\n",
       "      <td>0</td>\n",
       "      <td>0</td>\n",
       "      <td>0</td>\n",
       "      <td>0</td>\n",
       "      <td>0</td>\n",
       "      <td>1</td>\n",
       "      <td>0</td>\n",
       "      <td>0</td>\n",
       "      <td>0</td>\n",
       "      <td>0</td>\n",
       "      <td>0</td>\n",
       "      <td>0</td>\n",
       "      <td>1</td>\n",
       "      <td>0</td>\n",
       "    </tr>\n",
       "  </tbody>\n",
       "</table>\n",
       "</div>"
      ],
      "text/plain": [
       "        Pd_BAYVIEW  Pd_CENTRAL  Pd_INGLESIDE  Pd_MISSION  Pd_NORTHERN  \\\n",
       "710747           1           0             0           0            0   \n",
       "67284            0           0             0           0            0   \n",
       "269629           0           0             1           0            0   \n",
       "716054           0           0             0           0            1   \n",
       "216556           0           0             0           0            0   \n",
       "\n",
       "        Pd_PARK  Pd_RICHMOND  Pd_SOUTHERN  Pd_TARAVAL  Pd_TENDERLOIN  Friday  \\\n",
       "710747        0            0            0           0              0       0   \n",
       "67284         0            0            1           0              0       0   \n",
       "269629        0            0            0           0              0       0   \n",
       "716054        0            0            0           0              0       0   \n",
       "216556        0            0            0           1              0       0   \n",
       "\n",
       "        Monday  Saturday  Sunday  Thursday  Tuesday  Wednesday  \n",
       "710747       0         0       0         0        0          1  \n",
       "67284        0         0       0         0        0          1  \n",
       "269629       1         0       0         0        0          0  \n",
       "716054       0         0       0         0        0          1  \n",
       "216556       0         0       0         0        1          0  "
      ]
     },
     "execution_count": 16,
     "metadata": {},
     "output_type": "execute_result"
    }
   ],
   "source": [
    "# Model 3: adding day of week to police district\n",
    "\n",
    "## Create dummy variables for day of week categorical variable\n",
    "\n",
    "model3_features = pd.concat([model2_features, \n",
    "                             pd.get_dummies(train[\"DayOfWeek\"])],\n",
    "                            axis=1)\n",
    "\n",
    "model3_features.head(5)"
   ]
  },
  {
   "cell_type": "code",
   "execution_count": 17,
   "metadata": {
    "collapsed": false
   },
   "outputs": [
    {
     "data": {
      "text/plain": [
       "(263415, 39)"
      ]
     },
     "execution_count": 17,
     "metadata": {},
     "output_type": "execute_result"
    }
   ],
   "source": [
    "## Predict on testing data using multinomial logistic regression \n",
    "## based on police district and day of week\n",
    "\n",
    "model3 = LogisticRegression().fit(model3_features, \n",
    "                                  train[\"CatCodes\"])\n",
    "test_features = pd.concat([pd.get_dummies(test[\"PdDistrict\"], prefix=\"Pd\"),\n",
    "                           pd.get_dummies(test[\"DayOfWeek\"])],\n",
    "                          axis=1)               \n",
    "model3_pred = model3.predict_proba(test_features)\n",
    "model3_pred.shape"
   ]
  },
  {
   "cell_type": "code",
   "execution_count": 18,
   "metadata": {
    "collapsed": false
   },
   "outputs": [
    {
     "data": {
      "text/plain": [
       "2.6141621112529707"
      ]
     },
     "execution_count": 18,
     "metadata": {},
     "output_type": "execute_result"
    }
   ],
   "source": [
    "## Evaluate Model 3's performance using log-loss metric from Kaggle\n",
    "\n",
    "log_loss(test[\"CatCodes\"], model3_pred)\n",
    "\n",
    "## Not especially better than doing police districts alone"
   ]
  },
  {
   "cell_type": "code",
   "execution_count": 19,
   "metadata": {
    "collapsed": false
   },
   "outputs": [],
   "source": [
    "# Model 4: random forests\n",
    "\n",
    "from sklearn.cross_validation import KFold, StratifiedKFold\n",
    "from sklearn.ensemble import RandomForestClassifier\n",
    "\n",
    "kf = StratifiedKFold(sfcrimes[\"CatCodes\"], \n",
    "                     n_folds=5, \n",
    "                     shuffle=True, \n",
    "                     random_state=333)"
   ]
  },
  {
   "cell_type": "code",
   "execution_count": 20,
   "metadata": {
    "collapsed": true
   },
   "outputs": [],
   "source": [
    "## Predict using random forests and 5-fold cross-validation\n",
    "\n",
    "model4_features = pd.concat([pd.get_dummies(sfcrimes[\"PdDistrict\"],\n",
    "                                            prefix=\"Pd\"),\n",
    "                             pd.get_dummies(sfcrimes[\"DayOfWeek\"])],\n",
    "                            axis=1)\n",
    "rf = RandomForestClassifier(n_estimators=100,\n",
    "                            random_state=333)\n",
    "\n",
    "def log_loss_kfold(alg, train_features, train_target,\n",
    "                   test_features, test_target):\n",
    "    train_fit = alg.fit(train_features, train_target)\n",
    "    test_pred = train_fit.predict_proba(test_features)\n",
    "    return log_loss(test_target, test_pred)"
   ]
  },
  {
   "cell_type": "code",
   "execution_count": 21,
   "metadata": {
    "collapsed": false
   },
   "outputs": [
    {
     "data": {
      "text/plain": [
       "2.6160911998797305"
      ]
     },
     "execution_count": 21,
     "metadata": {},
     "output_type": "execute_result"
    }
   ],
   "source": [
    "## Fit and evaluate model\n",
    "\n",
    "scores = [log_loss_kfold(rf,\n",
    "                         model4_features.iloc[train_idx],\n",
    "                         sfcrimes[\"CatCodes\"].iloc[train_idx],\n",
    "                         model4_features.iloc[test_idx],\n",
    "                         sfcrimes[\"CatCodes\"].iloc[test_idx])\n",
    "          for train_idx, test_idx in kf]\n",
    "sum(scores)/len(scores)"
   ]
  },
  {
   "cell_type": "code",
   "execution_count": 22,
   "metadata": {
    "collapsed": false
   },
   "outputs": [
    {
     "data": {
      "text/html": [
       "<div>\n",
       "<table border=\"1\" class=\"dataframe\">\n",
       "  <thead>\n",
       "    <tr style=\"text-align: right;\">\n",
       "      <th></th>\n",
       "      <th>X</th>\n",
       "      <th>Y</th>\n",
       "    </tr>\n",
       "  </thead>\n",
       "  <tbody>\n",
       "    <tr>\n",
       "      <th>0.90</th>\n",
       "      <td>-122.397591</td>\n",
       "      <td>37.791466</td>\n",
       "    </tr>\n",
       "    <tr>\n",
       "      <th>0.91</th>\n",
       "      <td>-122.396533</td>\n",
       "      <td>37.792838</td>\n",
       "    </tr>\n",
       "    <tr>\n",
       "      <th>0.92</th>\n",
       "      <td>-122.395330</td>\n",
       "      <td>37.794283</td>\n",
       "    </tr>\n",
       "    <tr>\n",
       "      <th>0.93</th>\n",
       "      <td>-122.393984</td>\n",
       "      <td>37.795822</td>\n",
       "    </tr>\n",
       "    <tr>\n",
       "      <th>0.94</th>\n",
       "      <td>-122.392352</td>\n",
       "      <td>37.797346</td>\n",
       "    </tr>\n",
       "    <tr>\n",
       "      <th>0.95</th>\n",
       "      <td>-122.390977</td>\n",
       "      <td>37.798383</td>\n",
       "    </tr>\n",
       "    <tr>\n",
       "      <th>0.96</th>\n",
       "      <td>-122.389866</td>\n",
       "      <td>37.799771</td>\n",
       "    </tr>\n",
       "    <tr>\n",
       "      <th>0.97</th>\n",
       "      <td>-122.388380</td>\n",
       "      <td>37.801574</td>\n",
       "    </tr>\n",
       "    <tr>\n",
       "      <th>0.98</th>\n",
       "      <td>-122.386441</td>\n",
       "      <td>37.804425</td>\n",
       "    </tr>\n",
       "    <tr>\n",
       "      <th>0.99</th>\n",
       "      <td>-122.380934</td>\n",
       "      <td>37.806758</td>\n",
       "    </tr>\n",
       "    <tr>\n",
       "      <th>1.00</th>\n",
       "      <td>-120.500000</td>\n",
       "      <td>90.000000</td>\n",
       "    </tr>\n",
       "  </tbody>\n",
       "</table>\n",
       "</div>"
      ],
      "text/plain": [
       "               X          Y\n",
       "0.90 -122.397591  37.791466\n",
       "0.91 -122.396533  37.792838\n",
       "0.92 -122.395330  37.794283\n",
       "0.93 -122.393984  37.795822\n",
       "0.94 -122.392352  37.797346\n",
       "0.95 -122.390977  37.798383\n",
       "0.96 -122.389866  37.799771\n",
       "0.97 -122.388380  37.801574\n",
       "0.98 -122.386441  37.804425\n",
       "0.99 -122.380934  37.806758\n",
       "1.00 -120.500000  90.000000"
      ]
     },
     "execution_count": 22,
     "metadata": {},
     "output_type": "execute_result"
    }
   ],
   "source": [
    "# Model 5: Feature engineering\n",
    "\n",
    "## Identify extreme outliers in longitude and latitude\n",
    "\n",
    "sfcrimes[['X', 'Y']].quantile(np.linspace(0.9, 1.0, 11))"
   ]
  },
  {
   "cell_type": "code",
   "execution_count": 23,
   "metadata": {
    "collapsed": false
   },
   "outputs": [
    {
     "data": {
      "text/html": [
       "<div>\n",
       "<table border=\"1\" class=\"dataframe\">\n",
       "  <thead>\n",
       "    <tr style=\"text-align: right;\">\n",
       "      <th></th>\n",
       "      <th>X</th>\n",
       "      <th>Y</th>\n",
       "    </tr>\n",
       "    <tr>\n",
       "      <th>PdDistrict</th>\n",
       "      <th></th>\n",
       "      <th></th>\n",
       "    </tr>\n",
       "  </thead>\n",
       "  <tbody>\n",
       "    <tr>\n",
       "      <th>BAYVIEW</th>\n",
       "      <td>-122.393359</td>\n",
       "      <td>37.742516</td>\n",
       "    </tr>\n",
       "    <tr>\n",
       "      <th>CENTRAL</th>\n",
       "      <td>-122.409507</td>\n",
       "      <td>37.798740</td>\n",
       "    </tr>\n",
       "    <tr>\n",
       "      <th>INGLESIDE</th>\n",
       "      <td>-122.428734</td>\n",
       "      <td>37.729195</td>\n",
       "    </tr>\n",
       "    <tr>\n",
       "      <th>MISSION</th>\n",
       "      <td>-122.419393</td>\n",
       "      <td>37.760396</td>\n",
       "    </tr>\n",
       "    <tr>\n",
       "      <th>NORTHERN</th>\n",
       "      <td>-122.426428</td>\n",
       "      <td>37.792330</td>\n",
       "    </tr>\n",
       "    <tr>\n",
       "      <th>PARK</th>\n",
       "      <td>-122.445369</td>\n",
       "      <td>37.772418</td>\n",
       "    </tr>\n",
       "    <tr>\n",
       "      <th>RICHMOND</th>\n",
       "      <td>-122.469782</td>\n",
       "      <td>37.788294</td>\n",
       "    </tr>\n",
       "    <tr>\n",
       "      <th>SOUTHERN</th>\n",
       "      <td>-122.405185</td>\n",
       "      <td>37.782573</td>\n",
       "    </tr>\n",
       "    <tr>\n",
       "      <th>TARAVAL</th>\n",
       "      <td>-122.477214</td>\n",
       "      <td>37.740736</td>\n",
       "    </tr>\n",
       "    <tr>\n",
       "      <th>TENDERLOIN</th>\n",
       "      <td>-122.412152</td>\n",
       "      <td>37.793377</td>\n",
       "    </tr>\n",
       "  </tbody>\n",
       "</table>\n",
       "</div>"
      ],
      "text/plain": [
       "                     X          Y\n",
       "PdDistrict                       \n",
       "BAYVIEW    -122.393359  37.742516\n",
       "CENTRAL    -122.409507  37.798740\n",
       "INGLESIDE  -122.428734  37.729195\n",
       "MISSION    -122.419393  37.760396\n",
       "NORTHERN   -122.426428  37.792330\n",
       "PARK       -122.445369  37.772418\n",
       "RICHMOND   -122.469782  37.788294\n",
       "SOUTHERN   -122.405185  37.782573\n",
       "TARAVAL    -122.477214  37.740736\n",
       "TENDERLOIN -122.412152  37.793377"
      ]
     },
     "execution_count": 23,
     "metadata": {},
     "output_type": "execute_result"
    }
   ],
   "source": [
    "## Get mean values of longitude and latitude for each district\n",
    "\n",
    "pd_districts = sfcrimes.groupby(\"PdDistrict\")\n",
    "pd_means = pd_districts.agg({'X': np.mean,\n",
    "                             'Y': np.mean})\n",
    "pd_means"
   ]
  },
  {
   "cell_type": "code",
   "execution_count": 24,
   "metadata": {
    "collapsed": false
   },
   "outputs": [
    {
     "data": {
      "text/html": [
       "<div>\n",
       "<table border=\"1\" class=\"dataframe\">\n",
       "  <thead>\n",
       "    <tr style=\"text-align: right;\">\n",
       "      <th></th>\n",
       "      <th>X</th>\n",
       "      <th>Y</th>\n",
       "    </tr>\n",
       "  </thead>\n",
       "  <tbody>\n",
       "    <tr>\n",
       "      <th>0.90</th>\n",
       "      <td>-122.397613</td>\n",
       "      <td>37.791466</td>\n",
       "    </tr>\n",
       "    <tr>\n",
       "      <th>0.91</th>\n",
       "      <td>-122.396533</td>\n",
       "      <td>37.792838</td>\n",
       "    </tr>\n",
       "    <tr>\n",
       "      <th>0.92</th>\n",
       "      <td>-122.395330</td>\n",
       "      <td>37.794264</td>\n",
       "    </tr>\n",
       "    <tr>\n",
       "      <th>0.93</th>\n",
       "      <td>-122.393984</td>\n",
       "      <td>37.795822</td>\n",
       "    </tr>\n",
       "    <tr>\n",
       "      <th>0.94</th>\n",
       "      <td>-122.392352</td>\n",
       "      <td>37.797346</td>\n",
       "    </tr>\n",
       "    <tr>\n",
       "      <th>0.95</th>\n",
       "      <td>-122.390978</td>\n",
       "      <td>37.798383</td>\n",
       "    </tr>\n",
       "    <tr>\n",
       "      <th>0.96</th>\n",
       "      <td>-122.389866</td>\n",
       "      <td>37.799741</td>\n",
       "    </tr>\n",
       "    <tr>\n",
       "      <th>0.97</th>\n",
       "      <td>-122.388380</td>\n",
       "      <td>37.801549</td>\n",
       "    </tr>\n",
       "    <tr>\n",
       "      <th>0.98</th>\n",
       "      <td>-122.386501</td>\n",
       "      <td>37.804367</td>\n",
       "    </tr>\n",
       "    <tr>\n",
       "      <th>0.99</th>\n",
       "      <td>-122.380990</td>\n",
       "      <td>37.806758</td>\n",
       "    </tr>\n",
       "    <tr>\n",
       "      <th>1.00</th>\n",
       "      <td>-122.364937</td>\n",
       "      <td>37.819975</td>\n",
       "    </tr>\n",
       "  </tbody>\n",
       "</table>\n",
       "</div>"
      ],
      "text/plain": [
       "               X          Y\n",
       "0.90 -122.397613  37.791466\n",
       "0.91 -122.396533  37.792838\n",
       "0.92 -122.395330  37.794264\n",
       "0.93 -122.393984  37.795822\n",
       "0.94 -122.392352  37.797346\n",
       "0.95 -122.390978  37.798383\n",
       "0.96 -122.389866  37.799741\n",
       "0.97 -122.388380  37.801549\n",
       "0.98 -122.386501  37.804367\n",
       "0.99 -122.380990  37.806758\n",
       "1.00 -122.364937  37.819975"
      ]
     },
     "execution_count": 24,
     "metadata": {},
     "output_type": "execute_result"
    }
   ],
   "source": [
    "## Use police district means to impute values for extreme outliers\n",
    "\n",
    "outliers = (sfcrimes['X'] > -122) | (sfcrimes['Y'] > 38)\n",
    "imputed_values = pd.DataFrame({idx: pd_means.loc[row['PdDistrict']]\n",
    "                               for idx, row in sfcrimes[outliers].iterrows()})\n",
    "sfcrimes.loc[outliers, ('X', 'Y')] = imputed_values.transpose()\n",
    "sfcrimes[['X', 'Y']].quantile(np.linspace(0.9, 1.0, 11))"
   ]
  },
  {
   "cell_type": "code",
   "execution_count": 25,
   "metadata": {
    "collapsed": false
   },
   "outputs": [
    {
     "data": {
      "text/plain": [
       "<seaborn.axisgrid.JointGrid at 0x10958ed30>"
      ]
     },
     "execution_count": 25,
     "metadata": {},
     "output_type": "execute_result"
    },
    {
     "name": "stderr",
     "output_type": "stream",
     "text": [
      "/usr/local/lib/python3.5/site-packages/matplotlib/collections.py:590: FutureWarning: elementwise comparison failed; returning scalar instead, but in the future will perform elementwise comparison\n",
      "  if self._edgecolors == str('face'):\n"
     ]
    },
    {
     "data": {
      "image/png": "[encoded data removed]",
      "text/plain": [
       "<matplotlib.figure.Figure at 0x10958eba8>"
      ]
     },
     "metadata": {},
     "output_type": "display_data"
    }
   ],
   "source": [
    "## Check joint distribution of longitude and latitude\n",
    "\n",
    "sns.jointplot(x = \"X\",\n",
    "              y = \"Y\",\n",
    "              data = sfcrimes)"
   ]
  },
  {
   "cell_type": "code",
   "execution_count": 26,
   "metadata": {
    "collapsed": false
   },
   "outputs": [],
   "source": [
    "## Convert dates column into datetime object\n",
    "\n",
    "timestamps = pd.to_datetime(sfcrimes[\"Dates\"])\n",
    "timestamps.index = pd.DatetimeIndex(timestamps)"
   ]
  },
  {
   "cell_type": "code",
   "execution_count": 27,
   "metadata": {
    "collapsed": false
   },
   "outputs": [
    {
     "data": {
      "text/plain": [
       "<matplotlib.axes._subplots.AxesSubplot at 0x10983b588>"
      ]
     },
     "execution_count": 27,
     "metadata": {},
     "output_type": "execute_result"
    },
    {
     "data": {
      "image/png": "[encoded data removed]",
      "text/plain": [
       "<matplotlib.figure.Figure at 0x10c6fe048>"
      ]
     },
     "metadata": {},
     "output_type": "display_data"
    }
   ],
   "source": [
    "## Distribution of crimes across years\n",
    "\n",
    "sns.countplot(x = timestamps.index.year,\n",
    "              order = range(2003, 2016))"
   ]
  },
  {
   "cell_type": "code",
   "execution_count": 28,
   "metadata": {
    "collapsed": false
   },
   "outputs": [
    {
     "data": {
      "text/plain": [
       "<matplotlib.axes._subplots.AxesSubplot at 0x12304d6a0>"
      ]
     },
     "execution_count": 28,
     "metadata": {},
     "output_type": "execute_result"
    },
    {
     "data": {
      "image/png": "[encoded data removed]",
      "text/plain": [
       "<matplotlib.figure.Figure at 0x123046780>"
      ]
     },
     "metadata": {},
     "output_type": "display_data"
    }
   ],
   "source": [
    "## Distribution of crimes across months\n",
    "\n",
    "sns.countplot(x = timestamps.index.month,\n",
    "             order = range(1, 13))"
   ]
  },
  {
   "cell_type": "code",
   "execution_count": 29,
   "metadata": {
    "collapsed": false
   },
   "outputs": [
    {
     "data": {
      "text/plain": [
       "<matplotlib.axes._subplots.AxesSubplot at 0x10cee5c88>"
      ]
     },
     "execution_count": 29,
     "metadata": {},
     "output_type": "execute_result"
    },
    {
     "data": {
      "image/png": "[encoded data removed]",
      "text/plain": [
       "<matplotlib.figure.Figure at 0x12304af98>"
      ]
     },
     "metadata": {},
     "output_type": "display_data"
    }
   ],
   "source": [
    "## Distribution of crimes across hours\n",
    "\n",
    "sns.countplot(x = timestamps.index.hour,\n",
    "              order = range(24))"
   ]
  },
  {
   "cell_type": "code",
   "execution_count": 30,
   "metadata": {
    "collapsed": false
   },
   "outputs": [
    {
     "data": {
      "text/plain": [
       "<matplotlib.axes._subplots.AxesSubplot at 0x10dde8780>"
      ]
     },
     "execution_count": 30,
     "metadata": {},
     "output_type": "execute_result"
    },
    {
     "data": {
      "image/png": "[encoded data removed]",
      "text/plain": [
       "<matplotlib.figure.Figure at 0x109407278>"
      ]
     },
     "metadata": {},
     "output_type": "display_data"
    }
   ],
   "source": [
    "## Construct categorical series for time of day\n",
    "\n",
    "def time_of_day(hour):\n",
    "    if hour >= 1 and hour < 7:\n",
    "        return \"night\"\n",
    "    elif hour >=7 and hour < 12:\n",
    "        return \"morning\"\n",
    "    elif hour >= 12 and hour < 18:\n",
    "        return \"afternoon\"\n",
    "    else:\n",
    "        return \"evening\"\n",
    "\n",
    "sfcrimes[\"TimeOfDay\"] = pd.Series([time_of_day(hour) \n",
    "                                   for hour in timestamps.index.hour])\n",
    "sns.countplot(x = \"TimeOfDay\",\n",
    "              data = sfcrimes,\n",
    "              order = [\"morning\", \"afternoon\", \"evening\", \"night\"])"
   ]
  },
  {
   "cell_type": "code",
   "execution_count": 31,
   "metadata": {
    "collapsed": false
   },
   "outputs": [
    {
     "data": {
      "text/plain": [
       "Dates         0\n",
       "Category      0\n",
       "Descript      0\n",
       "DayOfWeek     0\n",
       "PdDistrict    0\n",
       "Resolution    0\n",
       "Address       0\n",
       "X             0\n",
       "Y             0\n",
       "CatCodes      0\n",
       "TimeOfDay     0\n",
       "dtype: int64"
      ]
     },
     "execution_count": 31,
     "metadata": {},
     "output_type": "execute_result"
    }
   ],
   "source": [
    "## Check for missing data\n",
    "\n",
    "sfcrimes.apply(lambda x: sum(x.isnull()))"
   ]
  },
  {
   "cell_type": "code",
   "execution_count": 33,
   "metadata": {
    "collapsed": false
   },
   "outputs": [
    {
     "data": {
      "text/html": [
       "<div>\n",
       "<table border=\"1\" class=\"dataframe\">\n",
       "  <thead>\n",
       "    <tr style=\"text-align: right;\">\n",
       "      <th></th>\n",
       "      <th>Year</th>\n",
       "      <th>Month</th>\n",
       "      <th>Hour</th>\n",
       "      <th>X</th>\n",
       "      <th>Y</th>\n",
       "    </tr>\n",
       "  </thead>\n",
       "  <tbody>\n",
       "    <tr>\n",
       "      <th>0</th>\n",
       "      <td>1</td>\n",
       "      <td>0.416667</td>\n",
       "      <td>1</td>\n",
       "      <td>-0.999284</td>\n",
       "      <td>0.998800</td>\n",
       "    </tr>\n",
       "    <tr>\n",
       "      <th>1</th>\n",
       "      <td>1</td>\n",
       "      <td>0.416667</td>\n",
       "      <td>1</td>\n",
       "      <td>-0.999284</td>\n",
       "      <td>0.998800</td>\n",
       "    </tr>\n",
       "    <tr>\n",
       "      <th>2</th>\n",
       "      <td>1</td>\n",
       "      <td>0.416667</td>\n",
       "      <td>1</td>\n",
       "      <td>-0.999271</td>\n",
       "      <td>0.999483</td>\n",
       "    </tr>\n",
       "    <tr>\n",
       "      <th>3</th>\n",
       "      <td>1</td>\n",
       "      <td>0.416667</td>\n",
       "      <td>1</td>\n",
       "      <td>-0.999293</td>\n",
       "      <td>0.999495</td>\n",
       "    </tr>\n",
       "    <tr>\n",
       "      <th>4</th>\n",
       "      <td>1</td>\n",
       "      <td>0.416667</td>\n",
       "      <td>1</td>\n",
       "      <td>-0.999389</td>\n",
       "      <td>0.998719</td>\n",
       "    </tr>\n",
       "  </tbody>\n",
       "</table>\n",
       "</div>"
      ],
      "text/plain": [
       "   Year     Month  Hour         X         Y\n",
       "0     1  0.416667     1 -0.999284  0.998800\n",
       "1     1  0.416667     1 -0.999284  0.998800\n",
       "2     1  0.416667     1 -0.999271  0.999483\n",
       "3     1  0.416667     1 -0.999293  0.999495\n",
       "4     1  0.416667     1 -0.999389  0.998719"
      ]
     },
     "execution_count": 33,
     "metadata": {},
     "output_type": "execute_result"
    }
   ],
   "source": [
    "## Build model with year, month, hour, longitude and latitude and scale\n",
    "\n",
    "from sklearn.preprocessing import maxabs_scale\n",
    "\n",
    "kf = StratifiedKFold(sfcrimes[\"CatCodes\"], \n",
    "                     n_folds=5, \n",
    "                     shuffle=True, \n",
    "                     random_state=333)\n",
    "\n",
    "sfcrimes[\"Year\"] = timestamps.index.year\n",
    "sfcrimes[\"Month\"] = timestamps.index.month\n",
    "sfcrimes[\"Hour\"] = timestamps.index.hour\n",
    "\n",
    "feature_names = [\"Year\", \"Month\", \"Hour\", 'X', 'Y']\n",
    "model5a_features = sfcrimes[feature_names]\n",
    "model5a_features = pd.DataFrame(maxabs_scale(model5a_features),\n",
    "                               columns = feature_names)\n",
    "model5a_features.head(5)"
   ]
  },
  {
   "cell_type": "code",
   "execution_count": 34,
   "metadata": {
    "collapsed": false
   },
   "outputs": [
    {
     "data": {
      "text/plain": [
       "2.669819681661441"
      ]
     },
     "execution_count": 34,
     "metadata": {},
     "output_type": "execute_result"
    }
   ],
   "source": [
    "## Evaluate logistic regression model\n",
    "\n",
    "logr = LogisticRegression()\n",
    "\n",
    "scores = [log_loss_kfold(logr,\n",
    "                         model5a_features.iloc[train_idx],\n",
    "                         sfcrimes[\"CatCodes\"].iloc[train_idx],\n",
    "                         model5a_features.iloc[test_idx],\n",
    "                         sfcrimes[\"CatCodes\"].iloc[test_idx])\n",
    "          for train_idx, test_idx in kf]\n",
    "sum(scores)/len(scores)"
   ]
  },
  {
   "cell_type": "code",
   "execution_count": 35,
   "metadata": {
    "collapsed": false
   },
   "outputs": [
    {
     "data": {
      "text/html": [
       "<div>\n",
       "<table border=\"1\" class=\"dataframe\">\n",
       "  <thead>\n",
       "    <tr style=\"text-align: right;\">\n",
       "      <th></th>\n",
       "      <th>Y_2003</th>\n",
       "      <th>Y_2004</th>\n",
       "      <th>Y_2005</th>\n",
       "      <th>Y_2006</th>\n",
       "      <th>Y_2007</th>\n",
       "      <th>Y_2008</th>\n",
       "      <th>Y_2009</th>\n",
       "      <th>Y_2010</th>\n",
       "      <th>Y_2011</th>\n",
       "      <th>Y_2012</th>\n",
       "      <th>...</th>\n",
       "      <th>Pd_INGLESIDE</th>\n",
       "      <th>Pd_MISSION</th>\n",
       "      <th>Pd_NORTHERN</th>\n",
       "      <th>Pd_PARK</th>\n",
       "      <th>Pd_RICHMOND</th>\n",
       "      <th>Pd_SOUTHERN</th>\n",
       "      <th>Pd_TARAVAL</th>\n",
       "      <th>Pd_TENDERLOIN</th>\n",
       "      <th>X</th>\n",
       "      <th>Y</th>\n",
       "    </tr>\n",
       "  </thead>\n",
       "  <tbody>\n",
       "    <tr>\n",
       "      <th>0</th>\n",
       "      <td>0</td>\n",
       "      <td>0</td>\n",
       "      <td>0</td>\n",
       "      <td>0</td>\n",
       "      <td>0</td>\n",
       "      <td>0</td>\n",
       "      <td>0</td>\n",
       "      <td>0</td>\n",
       "      <td>0</td>\n",
       "      <td>0</td>\n",
       "      <td>...</td>\n",
       "      <td>0</td>\n",
       "      <td>0</td>\n",
       "      <td>1</td>\n",
       "      <td>0</td>\n",
       "      <td>0</td>\n",
       "      <td>0</td>\n",
       "      <td>0</td>\n",
       "      <td>0</td>\n",
       "      <td>-0.999284</td>\n",
       "      <td>0.998800</td>\n",
       "    </tr>\n",
       "    <tr>\n",
       "      <th>1</th>\n",
       "      <td>0</td>\n",
       "      <td>0</td>\n",
       "      <td>0</td>\n",
       "      <td>0</td>\n",
       "      <td>0</td>\n",
       "      <td>0</td>\n",
       "      <td>0</td>\n",
       "      <td>0</td>\n",
       "      <td>0</td>\n",
       "      <td>0</td>\n",
       "      <td>...</td>\n",
       "      <td>0</td>\n",
       "      <td>0</td>\n",
       "      <td>1</td>\n",
       "      <td>0</td>\n",
       "      <td>0</td>\n",
       "      <td>0</td>\n",
       "      <td>0</td>\n",
       "      <td>0</td>\n",
       "      <td>-0.999284</td>\n",
       "      <td>0.998800</td>\n",
       "    </tr>\n",
       "    <tr>\n",
       "      <th>2</th>\n",
       "      <td>0</td>\n",
       "      <td>0</td>\n",
       "      <td>0</td>\n",
       "      <td>0</td>\n",
       "      <td>0</td>\n",
       "      <td>0</td>\n",
       "      <td>0</td>\n",
       "      <td>0</td>\n",
       "      <td>0</td>\n",
       "      <td>0</td>\n",
       "      <td>...</td>\n",
       "      <td>0</td>\n",
       "      <td>0</td>\n",
       "      <td>1</td>\n",
       "      <td>0</td>\n",
       "      <td>0</td>\n",
       "      <td>0</td>\n",
       "      <td>0</td>\n",
       "      <td>0</td>\n",
       "      <td>-0.999271</td>\n",
       "      <td>0.999483</td>\n",
       "    </tr>\n",
       "    <tr>\n",
       "      <th>3</th>\n",
       "      <td>0</td>\n",
       "      <td>0</td>\n",
       "      <td>0</td>\n",
       "      <td>0</td>\n",
       "      <td>0</td>\n",
       "      <td>0</td>\n",
       "      <td>0</td>\n",
       "      <td>0</td>\n",
       "      <td>0</td>\n",
       "      <td>0</td>\n",
       "      <td>...</td>\n",
       "      <td>0</td>\n",
       "      <td>0</td>\n",
       "      <td>1</td>\n",
       "      <td>0</td>\n",
       "      <td>0</td>\n",
       "      <td>0</td>\n",
       "      <td>0</td>\n",
       "      <td>0</td>\n",
       "      <td>-0.999293</td>\n",
       "      <td>0.999495</td>\n",
       "    </tr>\n",
       "    <tr>\n",
       "      <th>4</th>\n",
       "      <td>0</td>\n",
       "      <td>0</td>\n",
       "      <td>0</td>\n",
       "      <td>0</td>\n",
       "      <td>0</td>\n",
       "      <td>0</td>\n",
       "      <td>0</td>\n",
       "      <td>0</td>\n",
       "      <td>0</td>\n",
       "      <td>0</td>\n",
       "      <td>...</td>\n",
       "      <td>0</td>\n",
       "      <td>0</td>\n",
       "      <td>0</td>\n",
       "      <td>1</td>\n",
       "      <td>0</td>\n",
       "      <td>0</td>\n",
       "      <td>0</td>\n",
       "      <td>0</td>\n",
       "      <td>-0.999389</td>\n",
       "      <td>0.998719</td>\n",
       "    </tr>\n",
       "  </tbody>\n",
       "</table>\n",
       "<p>5 rows × 41 columns</p>\n",
       "</div>"
      ],
      "text/plain": [
       "   Y_2003  Y_2004  Y_2005  Y_2006  Y_2007  Y_2008  Y_2009  Y_2010  Y_2011  \\\n",
       "0       0       0       0       0       0       0       0       0       0   \n",
       "1       0       0       0       0       0       0       0       0       0   \n",
       "2       0       0       0       0       0       0       0       0       0   \n",
       "3       0       0       0       0       0       0       0       0       0   \n",
       "4       0       0       0       0       0       0       0       0       0   \n",
       "\n",
       "   Y_2012    ...     Pd_INGLESIDE  Pd_MISSION  Pd_NORTHERN  Pd_PARK  \\\n",
       "0       0    ...                0           0            1        0   \n",
       "1       0    ...                0           0            1        0   \n",
       "2       0    ...                0           0            1        0   \n",
       "3       0    ...                0           0            1        0   \n",
       "4       0    ...                0           0            0        1   \n",
       "\n",
       "   Pd_RICHMOND  Pd_SOUTHERN  Pd_TARAVAL  Pd_TENDERLOIN         X         Y  \n",
       "0            0            0           0              0 -0.999284  0.998800  \n",
       "1            0            0           0              0 -0.999284  0.998800  \n",
       "2            0            0           0              0 -0.999271  0.999483  \n",
       "3            0            0           0              0 -0.999293  0.999495  \n",
       "4            0            0           0              0 -0.999389  0.998719  \n",
       "\n",
       "[5 rows x 41 columns]"
      ]
     },
     "execution_count": 35,
     "metadata": {},
     "output_type": "execute_result"
    }
   ],
   "source": [
    "## Build model with time as qualitative variables\n",
    "\n",
    "model5b_features = pd.concat([pd.get_dummies(sfcrimes[\"Year\"], \n",
    "                                             prefix = \"Y\"),\n",
    "                              pd.get_dummies(sfcrimes[\"Month\"], \n",
    "                                             prefix = \"M\"),\n",
    "                              pd.get_dummies(sfcrimes[\"TimeOfDay\"],\n",
    "                                             prefix = \"Time\"),\n",
    "                              pd.get_dummies(sfcrimes[\"PdDistrict\"],\n",
    "                                             prefix = \"Pd\"),\n",
    "                              pd.Series(maxabs_scale(sfcrimes['X']),\n",
    "                                        name = 'X'), \n",
    "                              pd.Series(maxabs_scale(sfcrimes['Y']),\n",
    "                                        name = 'Y')],\n",
    "                             axis = 1)\n",
    "model5b_features.head(5)"
   ]
  },
  {
   "cell_type": "code",
   "execution_count": 36,
   "metadata": {
    "collapsed": false
   },
   "outputs": [
    {
     "data": {
      "text/plain": [
       "2.575608439211817"
      ]
     },
     "execution_count": 36,
     "metadata": {},
     "output_type": "execute_result"
    }
   ],
   "source": [
    "## Evaluate logistic regression model\n",
    "\n",
    "scores = [log_loss_kfold(logr,\n",
    "                         model5b_features.iloc[train_idx],\n",
    "                         sfcrimes[\"CatCodes\"].iloc[train_idx],\n",
    "                         model5b_features.iloc[test_idx],\n",
    "                         sfcrimes[\"CatCodes\"].iloc[test_idx])\n",
    "          for train_idx, test_idx in kf]\n",
    "sum(scores)/len(scores)"
   ]
  },
  {
   "cell_type": "code",
   "execution_count": 37,
   "metadata": {
    "collapsed": true
   },
   "outputs": [],
   "source": [
    "## Fit logistic regression model on total training set\n",
    "\n",
    "model5b = logr.fit(model5b_features, sfcrimes[\"CatCodes\"])"
   ]
  },
  {
   "cell_type": "code",
   "execution_count": 38,
   "metadata": {
    "collapsed": false
   },
   "outputs": [
    {
     "data": {
      "text/html": [
       "<div>\n",
       "<table border=\"1\" class=\"dataframe\">\n",
       "  <thead>\n",
       "    <tr style=\"text-align: right;\">\n",
       "      <th></th>\n",
       "      <th>Y_2003</th>\n",
       "      <th>Y_2004</th>\n",
       "      <th>Y_2005</th>\n",
       "      <th>Y_2006</th>\n",
       "      <th>Y_2007</th>\n",
       "      <th>Y_2008</th>\n",
       "      <th>Y_2009</th>\n",
       "      <th>Y_2010</th>\n",
       "      <th>Y_2011</th>\n",
       "      <th>Y_2012</th>\n",
       "      <th>...</th>\n",
       "      <th>Pd_INGLESIDE</th>\n",
       "      <th>Pd_MISSION</th>\n",
       "      <th>Pd_NORTHERN</th>\n",
       "      <th>Pd_PARK</th>\n",
       "      <th>Pd_RICHMOND</th>\n",
       "      <th>Pd_SOUTHERN</th>\n",
       "      <th>Pd_TARAVAL</th>\n",
       "      <th>Pd_TENDERLOIN</th>\n",
       "      <th>X</th>\n",
       "      <th>Y</th>\n",
       "    </tr>\n",
       "  </thead>\n",
       "  <tbody>\n",
       "    <tr>\n",
       "      <th>0</th>\n",
       "      <td>0</td>\n",
       "      <td>0</td>\n",
       "      <td>0</td>\n",
       "      <td>0</td>\n",
       "      <td>0</td>\n",
       "      <td>0</td>\n",
       "      <td>0</td>\n",
       "      <td>0</td>\n",
       "      <td>0</td>\n",
       "      <td>0</td>\n",
       "      <td>...</td>\n",
       "      <td>0</td>\n",
       "      <td>0</td>\n",
       "      <td>0</td>\n",
       "      <td>0</td>\n",
       "      <td>0</td>\n",
       "      <td>0</td>\n",
       "      <td>0</td>\n",
       "      <td>0</td>\n",
       "      <td>-0.999069</td>\n",
       "      <td>0.997737</td>\n",
       "    </tr>\n",
       "    <tr>\n",
       "      <th>1</th>\n",
       "      <td>0</td>\n",
       "      <td>0</td>\n",
       "      <td>0</td>\n",
       "      <td>0</td>\n",
       "      <td>0</td>\n",
       "      <td>0</td>\n",
       "      <td>0</td>\n",
       "      <td>0</td>\n",
       "      <td>0</td>\n",
       "      <td>0</td>\n",
       "      <td>...</td>\n",
       "      <td>0</td>\n",
       "      <td>0</td>\n",
       "      <td>0</td>\n",
       "      <td>0</td>\n",
       "      <td>0</td>\n",
       "      <td>0</td>\n",
       "      <td>0</td>\n",
       "      <td>0</td>\n",
       "      <td>-0.999003</td>\n",
       "      <td>0.997668</td>\n",
       "    </tr>\n",
       "    <tr>\n",
       "      <th>2</th>\n",
       "      <td>0</td>\n",
       "      <td>0</td>\n",
       "      <td>0</td>\n",
       "      <td>0</td>\n",
       "      <td>0</td>\n",
       "      <td>0</td>\n",
       "      <td>0</td>\n",
       "      <td>0</td>\n",
       "      <td>0</td>\n",
       "      <td>0</td>\n",
       "      <td>...</td>\n",
       "      <td>0</td>\n",
       "      <td>0</td>\n",
       "      <td>1</td>\n",
       "      <td>0</td>\n",
       "      <td>0</td>\n",
       "      <td>0</td>\n",
       "      <td>0</td>\n",
       "      <td>0</td>\n",
       "      <td>-0.999285</td>\n",
       "      <td>0.999249</td>\n",
       "    </tr>\n",
       "    <tr>\n",
       "      <th>3</th>\n",
       "      <td>0</td>\n",
       "      <td>0</td>\n",
       "      <td>0</td>\n",
       "      <td>0</td>\n",
       "      <td>0</td>\n",
       "      <td>0</td>\n",
       "      <td>0</td>\n",
       "      <td>0</td>\n",
       "      <td>0</td>\n",
       "      <td>0</td>\n",
       "      <td>...</td>\n",
       "      <td>1</td>\n",
       "      <td>0</td>\n",
       "      <td>0</td>\n",
       "      <td>0</td>\n",
       "      <td>0</td>\n",
       "      <td>0</td>\n",
       "      <td>0</td>\n",
       "      <td>0</td>\n",
       "      <td>-0.999378</td>\n",
       "      <td>0.997377</td>\n",
       "    </tr>\n",
       "    <tr>\n",
       "      <th>4</th>\n",
       "      <td>0</td>\n",
       "      <td>0</td>\n",
       "      <td>0</td>\n",
       "      <td>0</td>\n",
       "      <td>0</td>\n",
       "      <td>0</td>\n",
       "      <td>0</td>\n",
       "      <td>0</td>\n",
       "      <td>0</td>\n",
       "      <td>0</td>\n",
       "      <td>...</td>\n",
       "      <td>1</td>\n",
       "      <td>0</td>\n",
       "      <td>0</td>\n",
       "      <td>0</td>\n",
       "      <td>0</td>\n",
       "      <td>0</td>\n",
       "      <td>0</td>\n",
       "      <td>0</td>\n",
       "      <td>-0.999378</td>\n",
       "      <td>0.997377</td>\n",
       "    </tr>\n",
       "  </tbody>\n",
       "</table>\n",
       "<p>5 rows × 41 columns</p>\n",
       "</div>"
      ],
      "text/plain": [
       "   Y_2003  Y_2004  Y_2005  Y_2006  Y_2007  Y_2008  Y_2009  Y_2010  Y_2011  \\\n",
       "0       0       0       0       0       0       0       0       0       0   \n",
       "1       0       0       0       0       0       0       0       0       0   \n",
       "2       0       0       0       0       0       0       0       0       0   \n",
       "3       0       0       0       0       0       0       0       0       0   \n",
       "4       0       0       0       0       0       0       0       0       0   \n",
       "\n",
       "   Y_2012    ...     Pd_INGLESIDE  Pd_MISSION  Pd_NORTHERN  Pd_PARK  \\\n",
       "0       0    ...                0           0            0        0   \n",
       "1       0    ...                0           0            0        0   \n",
       "2       0    ...                0           0            1        0   \n",
       "3       0    ...                1           0            0        0   \n",
       "4       0    ...                1           0            0        0   \n",
       "\n",
       "   Pd_RICHMOND  Pd_SOUTHERN  Pd_TARAVAL  Pd_TENDERLOIN         X         Y  \n",
       "0            0            0           0              0 -0.999069  0.997737  \n",
       "1            0            0           0              0 -0.999003  0.997668  \n",
       "2            0            0           0              0 -0.999285  0.999249  \n",
       "3            0            0           0              0 -0.999378  0.997377  \n",
       "4            0            0           0              0 -0.999378  0.997377  \n",
       "\n",
       "[5 rows x 41 columns]"
      ]
     },
     "execution_count": 38,
     "metadata": {},
     "output_type": "execute_result"
    }
   ],
   "source": [
    "## Preprocess Kaggle's test data\n",
    "\n",
    "kaggle_test = pd.read_csv(\"test.csv\")\n",
    "\n",
    "kaggle_outliers = (kaggle_test['X'] > -122) | (kaggle_test['Y'] > 38)\n",
    "kaggle_imputed = pd.DataFrame({idx: pd_means.loc[row['PdDistrict']]\n",
    "                               for idx, row in kaggle_test[kaggle_outliers].iterrows()})\n",
    "kaggle_test.loc[kaggle_outliers, ('X', 'Y')] = kaggle_imputed.transpose()\n",
    "\n",
    "kaggle_timestamps = pd.to_datetime(kaggle_test[\"Dates\"])\n",
    "kaggle_timestamps.index = pd.DatetimeIndex(kaggle_timestamps)\n",
    "\n",
    "kaggle_test[\"Year\"] = kaggle_timestamps.index.year\n",
    "kaggle_test[\"Month\"] = kaggle_timestamps.index.month\n",
    "kaggle_test[\"TimeOfDay\"] = pd.Series([time_of_day(hour) \n",
    "                                      for hour in kaggle_timestamps.index.hour])\n",
    "\n",
    "kaggle_features = pd.concat([pd.get_dummies(kaggle_test[\"Year\"], \n",
    "                                            prefix = \"Y\"),\n",
    "                             pd.get_dummies(kaggle_test[\"Month\"], \n",
    "                                            prefix = \"M\"),\n",
    "                             pd.get_dummies(kaggle_test[\"TimeOfDay\"],\n",
    "                                            prefix = \"Time\"),\n",
    "                             pd.get_dummies(kaggle_test[\"PdDistrict\"],\n",
    "                                            prefix = \"Pd\"),\n",
    "                             pd.Series(maxabs_scale(kaggle_test['X']),\n",
    "                                        name = 'X'), \n",
    "                             pd.Series(maxabs_scale(kaggle_test['Y']),\n",
    "                                        name = 'Y')],\n",
    "                             axis = 1)\n",
    "kaggle_features.head(5)"
   ]
  },
  {
   "cell_type": "code",
   "execution_count": 39,
   "metadata": {
    "collapsed": true
   },
   "outputs": [],
   "source": [
    "## Predict on Kaggle's test data using model\n",
    "\n",
    "kaggle_pred = model5b.predict_proba(kaggle_features)\n",
    "colnames = cat_codes.inverse_transform(model5b.classes_)\n",
    "submission = pd.DataFrame(kaggle_pred, \n",
    "                          columns=colnames)\n",
    "submission.to_csv(path_or_buf=\"/Users/hanalee/sfcrimes/model5b.csv\",\n",
    "                  index_label=\"Id\")"
   ]
  },
  {
   "cell_type": "code",
   "execution_count": 40,
   "metadata": {
    "collapsed": false
   },
   "outputs": [],
   "source": [
    "# Model 6: Clustering longitude and latitude\n",
    "\n",
    "## Use k-means clustering to identify clusters\n",
    "from sklearn.cluster import KMeans\n",
    "\n",
    "k10 = KMeans(n_clusters = 10,\n",
    "             max_iter = 100,\n",
    "             random_state = 333).fit_predict(sfcrimes[['X', 'Y']])"
   ]
  },
  {
   "cell_type": "code",
   "execution_count": 82,
   "metadata": {
    "collapsed": false
   },
   "outputs": [
    {
     "name": "stderr",
     "output_type": "stream",
     "text": [
      "/usr/local/lib/python3.5/site-packages/matplotlib/collections.py:590: FutureWarning: elementwise comparison failed; returning scalar instead, but in the future will perform elementwise comparison\n",
      "  if self._edgecolors == str('face'):\n"
     ]
    },
    {
     "data": {
      "image/png": "[encoded data removed]",
      "text/plain": [
       "<matplotlib.figure.Figure at 0x13ae40b38>"
      ]
     },
     "metadata": {},
     "output_type": "display_data"
    }
   ],
   "source": [
    "## Plot clusters\n",
    "\n",
    "sfcrimes[\"Neighborhood\"] = k10\n",
    "g = sns.PairGrid(data = sfcrimes,\n",
    "                 hue = \"Neighborhood\",\n",
    "                 palette = \"husl\",\n",
    "                 x_vars = ['X'],\n",
    "                 y_vars = ['Y'],\n",
    "                 hue_kws = {\"marker\": ['.' for n in range(10)]},\n",
    "                 size = 5)\n",
    "g = g.map(plt.scatter)"
   ]
  },
  {
   "cell_type": "code",
   "execution_count": 53,
   "metadata": {
    "collapsed": false
   },
   "outputs": [],
   "source": [
    "kn = [KMeans(n_clusters = n,\n",
    "             max_iter = 100,\n",
    "             random_state = 333).fit(sfcrimes[['X', 'Y']])\n",
    "      for n in range(50, 750, 50)]"
   ]
  },
  {
   "cell_type": "code",
   "execution_count": 57,
   "metadata": {
    "collapsed": false
   },
   "outputs": [
    {
     "data": {
      "text/plain": [
       "<matplotlib.axes._subplots.AxesSubplot at 0x166fe60b8>"
      ]
     },
     "execution_count": 57,
     "metadata": {},
     "output_type": "execute_result"
    },
    {
     "name": "stderr",
     "output_type": "stream",
     "text": [
      "/usr/local/lib/python3.5/site-packages/matplotlib/collections.py:590: FutureWarning: elementwise comparison failed; returning scalar instead, but in the future will perform elementwise comparison\n",
      "  if self._edgecolors == str('face'):\n"
     ]
    },
    {
     "data": {
      "image/png": "[encoded data removed]",
      "text/plain": [
       "<matplotlib.figure.Figure at 0x166fb5e48>"
      ]
     },
     "metadata": {},
     "output_type": "display_data"
    }
   ],
   "source": [
    "sns.pointplot(x = [x for x in range(50, 750, 50)],\n",
    "              y = [k.inertia_ for k in kn],\n",
    "              ci = None)"
   ]
  },
  {
   "cell_type": "code",
   "execution_count": 62,
   "metadata": {
    "collapsed": true
   },
   "outputs": [],
   "source": [
    "k150 = KMeans(n_clusters = 150,\n",
    "              max_iter = 100,\n",
    "              random_state = 333).fit(sfcrimes[['X', 'Y']])"
   ]
  },
  {
   "cell_type": "code",
   "execution_count": 84,
   "metadata": {
    "collapsed": false
   },
   "outputs": [
    {
     "name": "stderr",
     "output_type": "stream",
     "text": [
      "/usr/local/lib/python3.5/site-packages/matplotlib/collections.py:590: FutureWarning: elementwise comparison failed; returning scalar instead, but in the future will perform elementwise comparison\n",
      "  if self._edgecolors == str('face'):\n"
     ]
    },
    {
     "data": {
      "image/png": "[encoded data removed]",
      "text/plain": [
       "<matplotlib.figure.Figure at 0x13add9908>"
      ]
     },
     "metadata": {},
     "output_type": "display_data"
    }
   ],
   "source": [
    "sfcrimes[\"Neighborhood\"] = k150.predict(sfcrimes[['X', 'Y']])\n",
    "g = sns.PairGrid(data = sfcrimes,\n",
    "                 hue = \"Neighborhood\",\n",
    "                 palette = \"husl\",\n",
    "                 x_vars = ['X'],\n",
    "                 y_vars = ['Y'],\n",
    "                 hue_kws = {\"marker\": ['.' for n in range(150)]},\n",
    "                 size = 5)\n",
    "g = g.map(plt.scatter)"
   ]
  },
  {
   "cell_type": "code",
   "execution_count": 118,
   "metadata": {
    "collapsed": false
   },
   "outputs": [
    {
     "data": {
      "text/html": [
       "<div>\n",
       "<table border=\"1\" class=\"dataframe\">\n",
       "  <thead>\n",
       "    <tr style=\"text-align: right;\">\n",
       "      <th></th>\n",
       "      <th>Y_2003</th>\n",
       "      <th>Y_2004</th>\n",
       "      <th>Y_2005</th>\n",
       "      <th>Y_2006</th>\n",
       "      <th>Y_2007</th>\n",
       "      <th>Y_2008</th>\n",
       "      <th>Y_2009</th>\n",
       "      <th>Y_2010</th>\n",
       "      <th>Y_2011</th>\n",
       "      <th>Y_2012</th>\n",
       "      <th>...</th>\n",
       "      <th>N_140</th>\n",
       "      <th>N_141</th>\n",
       "      <th>N_142</th>\n",
       "      <th>N_143</th>\n",
       "      <th>N_144</th>\n",
       "      <th>N_145</th>\n",
       "      <th>N_146</th>\n",
       "      <th>N_147</th>\n",
       "      <th>N_148</th>\n",
       "      <th>N_149</th>\n",
       "    </tr>\n",
       "  </thead>\n",
       "  <tbody>\n",
       "    <tr>\n",
       "      <th>0</th>\n",
       "      <td>0</td>\n",
       "      <td>0</td>\n",
       "      <td>0</td>\n",
       "      <td>0</td>\n",
       "      <td>0</td>\n",
       "      <td>0</td>\n",
       "      <td>0</td>\n",
       "      <td>0</td>\n",
       "      <td>0</td>\n",
       "      <td>0</td>\n",
       "      <td>...</td>\n",
       "      <td>0</td>\n",
       "      <td>0</td>\n",
       "      <td>0</td>\n",
       "      <td>0</td>\n",
       "      <td>0</td>\n",
       "      <td>0</td>\n",
       "      <td>0</td>\n",
       "      <td>0</td>\n",
       "      <td>0</td>\n",
       "      <td>0</td>\n",
       "    </tr>\n",
       "    <tr>\n",
       "      <th>1</th>\n",
       "      <td>0</td>\n",
       "      <td>0</td>\n",
       "      <td>0</td>\n",
       "      <td>0</td>\n",
       "      <td>0</td>\n",
       "      <td>0</td>\n",
       "      <td>0</td>\n",
       "      <td>0</td>\n",
       "      <td>0</td>\n",
       "      <td>0</td>\n",
       "      <td>...</td>\n",
       "      <td>0</td>\n",
       "      <td>0</td>\n",
       "      <td>0</td>\n",
       "      <td>0</td>\n",
       "      <td>0</td>\n",
       "      <td>0</td>\n",
       "      <td>0</td>\n",
       "      <td>0</td>\n",
       "      <td>0</td>\n",
       "      <td>0</td>\n",
       "    </tr>\n",
       "    <tr>\n",
       "      <th>2</th>\n",
       "      <td>0</td>\n",
       "      <td>0</td>\n",
       "      <td>0</td>\n",
       "      <td>0</td>\n",
       "      <td>0</td>\n",
       "      <td>0</td>\n",
       "      <td>0</td>\n",
       "      <td>0</td>\n",
       "      <td>0</td>\n",
       "      <td>0</td>\n",
       "      <td>...</td>\n",
       "      <td>0</td>\n",
       "      <td>0</td>\n",
       "      <td>0</td>\n",
       "      <td>0</td>\n",
       "      <td>0</td>\n",
       "      <td>0</td>\n",
       "      <td>0</td>\n",
       "      <td>0</td>\n",
       "      <td>0</td>\n",
       "      <td>0</td>\n",
       "    </tr>\n",
       "    <tr>\n",
       "      <th>3</th>\n",
       "      <td>0</td>\n",
       "      <td>0</td>\n",
       "      <td>0</td>\n",
       "      <td>0</td>\n",
       "      <td>0</td>\n",
       "      <td>0</td>\n",
       "      <td>0</td>\n",
       "      <td>0</td>\n",
       "      <td>0</td>\n",
       "      <td>0</td>\n",
       "      <td>...</td>\n",
       "      <td>0</td>\n",
       "      <td>0</td>\n",
       "      <td>0</td>\n",
       "      <td>0</td>\n",
       "      <td>0</td>\n",
       "      <td>0</td>\n",
       "      <td>0</td>\n",
       "      <td>0</td>\n",
       "      <td>0</td>\n",
       "      <td>0</td>\n",
       "    </tr>\n",
       "    <tr>\n",
       "      <th>4</th>\n",
       "      <td>0</td>\n",
       "      <td>0</td>\n",
       "      <td>0</td>\n",
       "      <td>0</td>\n",
       "      <td>0</td>\n",
       "      <td>0</td>\n",
       "      <td>0</td>\n",
       "      <td>0</td>\n",
       "      <td>0</td>\n",
       "      <td>0</td>\n",
       "      <td>...</td>\n",
       "      <td>0</td>\n",
       "      <td>0</td>\n",
       "      <td>0</td>\n",
       "      <td>0</td>\n",
       "      <td>0</td>\n",
       "      <td>0</td>\n",
       "      <td>0</td>\n",
       "      <td>0</td>\n",
       "      <td>0</td>\n",
       "      <td>0</td>\n",
       "    </tr>\n",
       "  </tbody>\n",
       "</table>\n",
       "<p>5 rows × 196 columns</p>\n",
       "</div>"
      ],
      "text/plain": [
       "   Y_2003  Y_2004  Y_2005  Y_2006  Y_2007  Y_2008  Y_2009  Y_2010  Y_2011  \\\n",
       "0       0       0       0       0       0       0       0       0       0   \n",
       "1       0       0       0       0       0       0       0       0       0   \n",
       "2       0       0       0       0       0       0       0       0       0   \n",
       "3       0       0       0       0       0       0       0       0       0   \n",
       "4       0       0       0       0       0       0       0       0       0   \n",
       "\n",
       "   Y_2012  ...    N_140  N_141  N_142  N_143  N_144  N_145  N_146  N_147  \\\n",
       "0       0  ...        0      0      0      0      0      0      0      0   \n",
       "1       0  ...        0      0      0      0      0      0      0      0   \n",
       "2       0  ...        0      0      0      0      0      0      0      0   \n",
       "3       0  ...        0      0      0      0      0      0      0      0   \n",
       "4       0  ...        0      0      0      0      0      0      0      0   \n",
       "\n",
       "   N_148  N_149  \n",
       "0      0      0  \n",
       "1      0      0  \n",
       "2      0      0  \n",
       "3      0      0  \n",
       "4      0      0  \n",
       "\n",
       "[5 rows x 196 columns]"
      ]
     },
     "execution_count": 118,
     "metadata": {},
     "output_type": "execute_result"
    }
   ],
   "source": [
    "model6_features = pd.concat([pd.get_dummies(sfcrimes[\"Year\"],\n",
    "                                            prefix = \"Y\"),\n",
    "                             pd.get_dummies(sfcrimes[\"Month\"],\n",
    "                                            prefix = \"M\"),\n",
    "                             pd.get_dummies(sfcrimes[\"TimeOfDay\"],\n",
    "                                            prefix = \"Time\"),\n",
    "                             pd.get_dummies(sfcrimes[\"DayOfWeek\"]),\n",
    "                             pd.get_dummies(sfcrimes[\"PdDistrict\"],\n",
    "                                            prefix = \"Pd\"),\n",
    "                             pd.get_dummies(sfcrimes[\"Neighborhood\"],\n",
    "                                            prefix = \"N\")],\n",
    "                            axis = 1)\n",
    "model6_features.head(5)"
   ]
  },
  {
   "cell_type": "code",
   "execution_count": 86,
   "metadata": {
    "collapsed": false
   },
   "outputs": [
    {
     "data": {
      "text/plain": [
       "2.4945534184824858"
      ]
     },
     "execution_count": 86,
     "metadata": {},
     "output_type": "execute_result"
    }
   ],
   "source": [
    "scores = [log_loss_kfold(logr,\n",
    "                         model6_features.iloc[train_idx],\n",
    "                         sfcrimes[\"CatCodes\"].iloc[train_idx],\n",
    "                         model6_features.iloc[test_idx],\n",
    "                         sfcrimes[\"CatCodes\"].iloc[test_idx])\n",
    "          for train_idx, test_idx in kf]\n",
    "sum(scores)/len(scores)"
   ]
  },
  {
   "cell_type": "code",
   "execution_count": 87,
   "metadata": {
    "collapsed": true
   },
   "outputs": [],
   "source": [
    "model6 = logr.fit(model6_features, sfcrimes[\"CatCodes\"])"
   ]
  },
  {
   "cell_type": "code",
   "execution_count": 88,
   "metadata": {
    "collapsed": false
   },
   "outputs": [
    {
     "data": {
      "text/html": [
       "<div>\n",
       "<table border=\"1\" class=\"dataframe\">\n",
       "  <thead>\n",
       "    <tr style=\"text-align: right;\">\n",
       "      <th></th>\n",
       "      <th>Y_2003</th>\n",
       "      <th>Y_2004</th>\n",
       "      <th>Y_2005</th>\n",
       "      <th>Y_2006</th>\n",
       "      <th>Y_2007</th>\n",
       "      <th>Y_2008</th>\n",
       "      <th>Y_2009</th>\n",
       "      <th>Y_2010</th>\n",
       "      <th>Y_2011</th>\n",
       "      <th>Y_2012</th>\n",
       "      <th>...</th>\n",
       "      <th>140</th>\n",
       "      <th>141</th>\n",
       "      <th>142</th>\n",
       "      <th>143</th>\n",
       "      <th>144</th>\n",
       "      <th>145</th>\n",
       "      <th>146</th>\n",
       "      <th>147</th>\n",
       "      <th>148</th>\n",
       "      <th>149</th>\n",
       "    </tr>\n",
       "  </thead>\n",
       "  <tbody>\n",
       "    <tr>\n",
       "      <th>0</th>\n",
       "      <td>0</td>\n",
       "      <td>0</td>\n",
       "      <td>0</td>\n",
       "      <td>0</td>\n",
       "      <td>0</td>\n",
       "      <td>0</td>\n",
       "      <td>0</td>\n",
       "      <td>0</td>\n",
       "      <td>0</td>\n",
       "      <td>0</td>\n",
       "      <td>...</td>\n",
       "      <td>0</td>\n",
       "      <td>0</td>\n",
       "      <td>0</td>\n",
       "      <td>0</td>\n",
       "      <td>0</td>\n",
       "      <td>0</td>\n",
       "      <td>0</td>\n",
       "      <td>0</td>\n",
       "      <td>0</td>\n",
       "      <td>0</td>\n",
       "    </tr>\n",
       "    <tr>\n",
       "      <th>1</th>\n",
       "      <td>0</td>\n",
       "      <td>0</td>\n",
       "      <td>0</td>\n",
       "      <td>0</td>\n",
       "      <td>0</td>\n",
       "      <td>0</td>\n",
       "      <td>0</td>\n",
       "      <td>0</td>\n",
       "      <td>0</td>\n",
       "      <td>0</td>\n",
       "      <td>...</td>\n",
       "      <td>0</td>\n",
       "      <td>0</td>\n",
       "      <td>0</td>\n",
       "      <td>0</td>\n",
       "      <td>0</td>\n",
       "      <td>0</td>\n",
       "      <td>0</td>\n",
       "      <td>0</td>\n",
       "      <td>0</td>\n",
       "      <td>0</td>\n",
       "    </tr>\n",
       "    <tr>\n",
       "      <th>2</th>\n",
       "      <td>0</td>\n",
       "      <td>0</td>\n",
       "      <td>0</td>\n",
       "      <td>0</td>\n",
       "      <td>0</td>\n",
       "      <td>0</td>\n",
       "      <td>0</td>\n",
       "      <td>0</td>\n",
       "      <td>0</td>\n",
       "      <td>0</td>\n",
       "      <td>...</td>\n",
       "      <td>0</td>\n",
       "      <td>0</td>\n",
       "      <td>0</td>\n",
       "      <td>0</td>\n",
       "      <td>0</td>\n",
       "      <td>0</td>\n",
       "      <td>0</td>\n",
       "      <td>0</td>\n",
       "      <td>0</td>\n",
       "      <td>0</td>\n",
       "    </tr>\n",
       "    <tr>\n",
       "      <th>3</th>\n",
       "      <td>0</td>\n",
       "      <td>0</td>\n",
       "      <td>0</td>\n",
       "      <td>0</td>\n",
       "      <td>0</td>\n",
       "      <td>0</td>\n",
       "      <td>0</td>\n",
       "      <td>0</td>\n",
       "      <td>0</td>\n",
       "      <td>0</td>\n",
       "      <td>...</td>\n",
       "      <td>0</td>\n",
       "      <td>0</td>\n",
       "      <td>0</td>\n",
       "      <td>0</td>\n",
       "      <td>0</td>\n",
       "      <td>0</td>\n",
       "      <td>0</td>\n",
       "      <td>0</td>\n",
       "      <td>0</td>\n",
       "      <td>0</td>\n",
       "    </tr>\n",
       "    <tr>\n",
       "      <th>4</th>\n",
       "      <td>0</td>\n",
       "      <td>0</td>\n",
       "      <td>0</td>\n",
       "      <td>0</td>\n",
       "      <td>0</td>\n",
       "      <td>0</td>\n",
       "      <td>0</td>\n",
       "      <td>0</td>\n",
       "      <td>0</td>\n",
       "      <td>0</td>\n",
       "      <td>...</td>\n",
       "      <td>0</td>\n",
       "      <td>0</td>\n",
       "      <td>0</td>\n",
       "      <td>0</td>\n",
       "      <td>0</td>\n",
       "      <td>0</td>\n",
       "      <td>0</td>\n",
       "      <td>0</td>\n",
       "      <td>0</td>\n",
       "      <td>0</td>\n",
       "    </tr>\n",
       "  </tbody>\n",
       "</table>\n",
       "<p>5 rows × 196 columns</p>\n",
       "</div>"
      ],
      "text/plain": [
       "   Y_2003  Y_2004  Y_2005  Y_2006  Y_2007  Y_2008  Y_2009  Y_2010  Y_2011  \\\n",
       "0       0       0       0       0       0       0       0       0       0   \n",
       "1       0       0       0       0       0       0       0       0       0   \n",
       "2       0       0       0       0       0       0       0       0       0   \n",
       "3       0       0       0       0       0       0       0       0       0   \n",
       "4       0       0       0       0       0       0       0       0       0   \n",
       "\n",
       "   Y_2012 ...   140  141  142  143  144  145  146  147  148  149  \n",
       "0       0 ...     0    0    0    0    0    0    0    0    0    0  \n",
       "1       0 ...     0    0    0    0    0    0    0    0    0    0  \n",
       "2       0 ...     0    0    0    0    0    0    0    0    0    0  \n",
       "3       0 ...     0    0    0    0    0    0    0    0    0    0  \n",
       "4       0 ...     0    0    0    0    0    0    0    0    0    0  \n",
       "\n",
       "[5 rows x 196 columns]"
      ]
     },
     "execution_count": 88,
     "metadata": {},
     "output_type": "execute_result"
    }
   ],
   "source": [
    "kaggle_test[\"Neighborhood\"] = k150.predict(kaggle_test[['X', 'Y']])\n",
    "\n",
    "kaggle_features = pd.concat([pd.get_dummies(kaggle_test[\"Year\"], \n",
    "                                            prefix = \"Y\"),\n",
    "                             pd.get_dummies(kaggle_test[\"Month\"], \n",
    "                                            prefix = \"M\"),\n",
    "                             pd.get_dummies(kaggle_test[\"DayOfWeek\"]),\n",
    "                             pd.get_dummies(kaggle_test[\"TimeOfDay\"],\n",
    "                                            prefix = \"Time\"),\n",
    "                             pd.get_dummies(kaggle_test[\"PdDistrict\"],\n",
    "                                            prefix = \"Pd\"),\n",
    "                             pd.get_dummies(kaggle_test[\"Neighborhood\"])],\n",
    "                            axis = 1)\n",
    "kaggle_features.head(5)"
   ]
  },
  {
   "cell_type": "code",
   "execution_count": 89,
   "metadata": {
    "collapsed": true
   },
   "outputs": [],
   "source": [
    "kaggle_pred = model6.predict_proba(kaggle_features)\n",
    "colnames = cat_codes.inverse_transform(model6a.classes_)\n",
    "submission = pd.DataFrame(kaggle_pred, \n",
    "                          columns=colnames)\n",
    "submission.to_csv(path_or_buf=\"/Users/hanalee/sfcrimes/model6.csv\",\n",
    "                  index_label=\"Id\")"
   ]
  },
  {
   "cell_type": "code",
   "execution_count": 108,
   "metadata": {
    "collapsed": true
   },
   "outputs": [],
   "source": [
    "## Model 7: Combine multiple algorithms\n",
    "\n",
    "from sklearn.ensemble import GradientBoostingClassifier\n",
    "\n",
    "def log_loss_multi(alg_list, train_features, train_target,\n",
    "                   test_features, test_target):\n",
    "    predictions = np.array([alg.fit(train_features,\n",
    "                                    train_target).predict_proba(test_features)\n",
    "                            for alg in alg_list])\n",
    "    means = predictions.mean(axis = 0)\n",
    "    normalized_means = means.div(means.sum(axis = 1), \n",
    "                                       axis = 0)\n",
    "    return log_loss(test_target, normalized_means)"
   ]
  },
  {
   "cell_type": "code",
   "execution_count": 109,
   "metadata": {
    "collapsed": false
   },
   "outputs": [
    {
     "ename": "KeyboardInterrupt",
     "evalue": "",
     "output_type": "error",
     "traceback": [
      "\u001b[0;31m---------------------------------------------------------------------------\u001b[0m",
      "\u001b[0;31mKeyboardInterrupt\u001b[0m                         Traceback (most recent call last)",
      "\u001b[0;32m<ipython-input-109-f2a4c0906cca>\u001b[0m in \u001b[0;36m<module>\u001b[0;34m()\u001b[0m\n\u001b[1;32m     14\u001b[0m                          \u001b[0mmodel6_features\u001b[0m\u001b[0;34m.\u001b[0m\u001b[0miloc\u001b[0m\u001b[0;34m[\u001b[0m\u001b[0mtest_idx\u001b[0m\u001b[0;34m]\u001b[0m\u001b[0;34m,\u001b[0m\u001b[0;34m\u001b[0m\u001b[0m\n\u001b[1;32m     15\u001b[0m                          sfcrimes[\"CatCodes\"].iloc[test_idx])\n\u001b[0;32m---> 16\u001b[0;31m           for train_idx, test_idx in kf]\n\u001b[0m\u001b[1;32m     17\u001b[0m \u001b[0msum\u001b[0m\u001b[0;34m(\u001b[0m\u001b[0mscores\u001b[0m\u001b[0;34m)\u001b[0m\u001b[0;34m/\u001b[0m\u001b[0mlen\u001b[0m\u001b[0;34m(\u001b[0m\u001b[0mscores\u001b[0m\u001b[0;34m)\u001b[0m\u001b[0;34m\u001b[0m\u001b[0m\n",
      "\u001b[0;32m<ipython-input-109-f2a4c0906cca>\u001b[0m in \u001b[0;36m<listcomp>\u001b[0;34m(.0)\u001b[0m\n\u001b[1;32m     14\u001b[0m                          \u001b[0mmodel6_features\u001b[0m\u001b[0;34m.\u001b[0m\u001b[0miloc\u001b[0m\u001b[0;34m[\u001b[0m\u001b[0mtest_idx\u001b[0m\u001b[0;34m]\u001b[0m\u001b[0;34m,\u001b[0m\u001b[0;34m\u001b[0m\u001b[0m\n\u001b[1;32m     15\u001b[0m                          sfcrimes[\"CatCodes\"].iloc[test_idx])\n\u001b[0;32m---> 16\u001b[0;31m           for train_idx, test_idx in kf]\n\u001b[0m\u001b[1;32m     17\u001b[0m \u001b[0msum\u001b[0m\u001b[0;34m(\u001b[0m\u001b[0mscores\u001b[0m\u001b[0;34m)\u001b[0m\u001b[0;34m/\u001b[0m\u001b[0mlen\u001b[0m\u001b[0;34m(\u001b[0m\u001b[0mscores\u001b[0m\u001b[0;34m)\u001b[0m\u001b[0;34m\u001b[0m\u001b[0m\n",
      "\u001b[0;32m<ipython-input-108-5b184235f2af>\u001b[0m in \u001b[0;36mlog_loss_multi\u001b[0;34m(alg_list, train_features, train_target, test_features, test_target)\u001b[0m\n\u001b[1;32m      7\u001b[0m     predictions = np.array([alg.fit(train_features,\n\u001b[1;32m      8\u001b[0m                                     train_target).predict_proba(test_features)\n\u001b[0;32m----> 9\u001b[0;31m                             for alg in alg_list])\n\u001b[0m\u001b[1;32m     10\u001b[0m     \u001b[0mmeans\u001b[0m \u001b[0;34m=\u001b[0m \u001b[0mpredictions\u001b[0m\u001b[0;34m.\u001b[0m\u001b[0mmean\u001b[0m\u001b[0;34m(\u001b[0m\u001b[0maxis\u001b[0m \u001b[0;34m=\u001b[0m \u001b[0;36m0\u001b[0m\u001b[0;34m)\u001b[0m\u001b[0;34m\u001b[0m\u001b[0m\n\u001b[1;32m     11\u001b[0m     normalized_means = predictions.div(predictions.sum(axis = 1), \n",
      "\u001b[0;32m<ipython-input-108-5b184235f2af>\u001b[0m in \u001b[0;36m<listcomp>\u001b[0;34m(.0)\u001b[0m\n\u001b[1;32m      7\u001b[0m     predictions = np.array([alg.fit(train_features,\n\u001b[1;32m      8\u001b[0m                                     train_target).predict_proba(test_features)\n\u001b[0;32m----> 9\u001b[0;31m                             for alg in alg_list])\n\u001b[0m\u001b[1;32m     10\u001b[0m     \u001b[0mmeans\u001b[0m \u001b[0;34m=\u001b[0m \u001b[0mpredictions\u001b[0m\u001b[0;34m.\u001b[0m\u001b[0mmean\u001b[0m\u001b[0;34m(\u001b[0m\u001b[0maxis\u001b[0m \u001b[0;34m=\u001b[0m \u001b[0;36m0\u001b[0m\u001b[0;34m)\u001b[0m\u001b[0;34m\u001b[0m\u001b[0m\n\u001b[1;32m     11\u001b[0m     normalized_means = predictions.div(predictions.sum(axis = 1), \n",
      "\u001b[0;32m/usr/local/lib/python3.5/site-packages/sklearn/ensemble/gradient_boosting.py\u001b[0m in \u001b[0;36mfit\u001b[0;34m(self, X, y, sample_weight, monitor)\u001b[0m\n\u001b[1;32m   1023\u001b[0m         \u001b[0;31m# fit the boosting stages\u001b[0m\u001b[0;34m\u001b[0m\u001b[0;34m\u001b[0m\u001b[0m\n\u001b[1;32m   1024\u001b[0m         n_stages = self._fit_stages(X, y, y_pred, sample_weight, random_state,\n\u001b[0;32m-> 1025\u001b[0;31m                                     begin_at_stage, monitor, X_idx_sorted)\n\u001b[0m\u001b[1;32m   1026\u001b[0m         \u001b[0;31m# change shape of arrays after fit (early-stopping or additional ests)\u001b[0m\u001b[0;34m\u001b[0m\u001b[0;34m\u001b[0m\u001b[0m\n\u001b[1;32m   1027\u001b[0m         \u001b[0;32mif\u001b[0m \u001b[0mn_stages\u001b[0m \u001b[0;34m!=\u001b[0m \u001b[0mself\u001b[0m\u001b[0;34m.\u001b[0m\u001b[0mestimators_\u001b[0m\u001b[0;34m.\u001b[0m\u001b[0mshape\u001b[0m\u001b[0;34m[\u001b[0m\u001b[0;36m0\u001b[0m\u001b[0;34m]\u001b[0m\u001b[0;34m:\u001b[0m\u001b[0;34m\u001b[0m\u001b[0m\n",
      "\u001b[0;32m/usr/local/lib/python3.5/site-packages/sklearn/ensemble/gradient_boosting.py\u001b[0m in \u001b[0;36m_fit_stages\u001b[0;34m(self, X, y, y_pred, sample_weight, random_state, begin_at_stage, monitor, X_idx_sorted)\u001b[0m\n\u001b[1;32m   1078\u001b[0m             y_pred = self._fit_stage(i, X, y, y_pred, sample_weight,\n\u001b[1;32m   1079\u001b[0m                                      \u001b[0msample_mask\u001b[0m\u001b[0;34m,\u001b[0m \u001b[0mrandom_state\u001b[0m\u001b[0;34m,\u001b[0m \u001b[0mX_idx_sorted\u001b[0m\u001b[0;34m,\u001b[0m\u001b[0;34m\u001b[0m\u001b[0m\n\u001b[0;32m-> 1080\u001b[0;31m                                      X_csc, X_csr)\n\u001b[0m\u001b[1;32m   1081\u001b[0m \u001b[0;34m\u001b[0m\u001b[0m\n\u001b[1;32m   1082\u001b[0m             \u001b[0;31m# track deviance (= loss)\u001b[0m\u001b[0;34m\u001b[0m\u001b[0;34m\u001b[0m\u001b[0m\n",
      "\u001b[0;32m/usr/local/lib/python3.5/site-packages/sklearn/ensemble/gradient_boosting.py\u001b[0m in \u001b[0;36m_fit_stage\u001b[0;34m(self, i, X, y, y_pred, sample_weight, sample_mask, random_state, X_idx_sorted, X_csc, X_csr)\u001b[0m\n\u001b[1;32m    782\u001b[0m             \u001b[0;32melse\u001b[0m\u001b[0;34m:\u001b[0m\u001b[0;34m\u001b[0m\u001b[0m\n\u001b[1;32m    783\u001b[0m                 tree.fit(X, residual, sample_weight=sample_weight,\n\u001b[0;32m--> 784\u001b[0;31m                          check_input=False, X_idx_sorted=X_idx_sorted)\n\u001b[0m\u001b[1;32m    785\u001b[0m \u001b[0;34m\u001b[0m\u001b[0m\n\u001b[1;32m    786\u001b[0m             \u001b[0;31m# update tree leaves\u001b[0m\u001b[0;34m\u001b[0m\u001b[0;34m\u001b[0m\u001b[0m\n",
      "\u001b[0;32m/usr/local/lib/python3.5/site-packages/sklearn/tree/tree.py\u001b[0m in \u001b[0;36mfit\u001b[0;34m(self, X, y, sample_weight, check_input, X_idx_sorted)\u001b[0m\n\u001b[1;32m    348\u001b[0m                                            max_leaf_nodes)\n\u001b[1;32m    349\u001b[0m \u001b[0;34m\u001b[0m\u001b[0m\n\u001b[0;32m--> 350\u001b[0;31m         \u001b[0mbuilder\u001b[0m\u001b[0;34m.\u001b[0m\u001b[0mbuild\u001b[0m\u001b[0;34m(\u001b[0m\u001b[0mself\u001b[0m\u001b[0;34m.\u001b[0m\u001b[0mtree_\u001b[0m\u001b[0;34m,\u001b[0m \u001b[0mX\u001b[0m\u001b[0;34m,\u001b[0m \u001b[0my\u001b[0m\u001b[0;34m,\u001b[0m \u001b[0msample_weight\u001b[0m\u001b[0;34m,\u001b[0m \u001b[0mX_idx_sorted\u001b[0m\u001b[0;34m)\u001b[0m\u001b[0;34m\u001b[0m\u001b[0m\n\u001b[0m\u001b[1;32m    351\u001b[0m \u001b[0;34m\u001b[0m\u001b[0m\n\u001b[1;32m    352\u001b[0m         \u001b[0;32mif\u001b[0m \u001b[0mself\u001b[0m\u001b[0;34m.\u001b[0m\u001b[0mn_outputs_\u001b[0m \u001b[0;34m==\u001b[0m \u001b[0;36m1\u001b[0m\u001b[0;34m:\u001b[0m\u001b[0;34m\u001b[0m\u001b[0m\n",
      "\u001b[0;31mKeyboardInterrupt\u001b[0m: "
     ]
    }
   ],
   "source": [
    "rf = RandomForestClassifier(n_estimators = 10,\n",
    "                            min_samples_leaf = 5,\n",
    "                            max_depth = 40,\n",
    "                            random_state = 333)\n",
    "\n",
    "gb = GradientBoostingClassifier(n_estimators = 10,\n",
    "                                min_samples_leaf = 5, \n",
    "                                max_depth = 40, \n",
    "                                random_state = 333)\n",
    "\n",
    "scores = [log_loss_multi([logr, rf, gb],\n",
    "                         model6_features.iloc[train_idx],\n",
    "                         sfcrimes[\"CatCodes\"].iloc[train_idx],\n",
    "                         model6_features.iloc[test_idx],\n",
    "                         sfcrimes[\"CatCodes\"].iloc[test_idx])\n",
    "          for train_idx, test_idx in kf]\n",
    "sum(scores)/len(scores)"
   ]
  },
  {
   "cell_type": "code",
   "execution_count": null,
   "metadata": {
    "collapsed": true
   },
   "outputs": [],
   "source": [
    "rf_model = rf.fit(model6_features, sfcrimes[\"CatCodes\"])\n",
    "gb_model = gb.fit(model6_features, sfcrimes[\"CatCodes\"])\n",
    "\n",
    "def combine_models(model_list, test_data):\n",
    "    predict = np.array([model.predict_proba(test_data)\n",
    "                            for model in model_list])\n",
    "    mean_predict = predict.mean(axis = 0)\n",
    "    normalize = mean_predict.div(mean_predict.sum(axis = 1),\n",
    "                                 axis = 0)\n",
    "    return normalize"
   ]
  },
  {
   "cell_type": "code",
   "execution_count": null,
   "metadata": {
    "collapsed": true
   },
   "outputs": [],
   "source": [
    "kaggle_pred = combine_models([logr_model, rf_model, gb_model], kaggle_features)\n",
    "colnames = cat_codes.inverse_transform(logr_model.classes_)\n",
    "submission = pd.DataFrame(kaggle_pred, \n",
    "                          columns=colnames)\n",
    "submission.to_csv(path_or_buf=\"/Users/hanalee/sfcrimes/model7.csv\",\n",
    "                  index_label=\"Id\")"
   ]
  }
 ],
 "metadata": {
  "kernelspec": {
   "display_name": "Python 3",
   "language": "python",
   "name": "python3"
  },
  "language_info": {
   "codemirror_mode": {
    "name": "ipython",
    "version": 3
   },
   "file_extension": ".py",
   "mimetype": "text/x-python",
   "name": "python",
   "nbconvert_exporter": "python",
   "pygments_lexer": "ipython3",
   "version": "3.5.1"
  }
 },
 "nbformat": 4,
 "nbformat_minor": 0
}
